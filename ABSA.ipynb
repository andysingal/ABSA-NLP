{
 "cells": [
  {
   "cell_type": "code",
   "execution_count": 1,
   "id": "9ab70d15",
   "metadata": {},
   "outputs": [],
   "source": [
    "#https://intellica-ai.medium.com/aspect-based-sentiment-analysis-everything-you-wanted-to-know-1be41572e238\n",
    "#https://medium.datadriveninvestor.com/sentiment-analysis-is-not-enough-ffafc8bbbfeb\n",
    "#https://www.kaggle.com/code/phiitm/aspect-based-sentiment-analysis/notebook\n",
    "#https://medium.com/analytics-vidhya/aspect-based-sentiment-analysis-a-practical-approach-8f51029bbc4a"
   ]
  },
  {
   "cell_type": "code",
   "execution_count": 1,
   "id": "770bdf83",
   "metadata": {},
   "outputs": [
    {
     "name": "stdout",
     "output_type": "stream",
     "text": [
      "Collecting tweepy\n",
      "  Downloading tweepy-4.10.0-py3-none-any.whl (94 kB)\n",
      "\u001b[2K     \u001b[90m━━━━━━━━━━━━━━━━━━━━━━━━━━━━━━━━━━━━━━━━\u001b[0m \u001b[32m94.4/94.4 kB\u001b[0m \u001b[31m1.9 MB/s\u001b[0m eta \u001b[36m0:00:00\u001b[0m00:01\u001b[0m\n",
      "\u001b[?25hRequirement already satisfied: requests<3,>=2.27.0 in /Users/ankush.singal/opt/anaconda3/lib/python3.9/site-packages (from tweepy) (2.27.1)\n",
      "Requirement already satisfied: oauthlib<4,>=3.2.0 in /Users/ankush.singal/opt/anaconda3/lib/python3.9/site-packages (from tweepy) (3.2.0)\n",
      "Requirement already satisfied: requests-oauthlib<2,>=1.2.0 in /Users/ankush.singal/opt/anaconda3/lib/python3.9/site-packages (from tweepy) (1.3.1)\n",
      "Requirement already satisfied: certifi>=2017.4.17 in /Users/ankush.singal/opt/anaconda3/lib/python3.9/site-packages (from requests<3,>=2.27.0->tweepy) (2022.5.18.1)\n",
      "Requirement already satisfied: charset-normalizer~=2.0.0 in /Users/ankush.singal/opt/anaconda3/lib/python3.9/site-packages (from requests<3,>=2.27.0->tweepy) (2.0.4)\n",
      "Requirement already satisfied: idna<4,>=2.5 in /Users/ankush.singal/opt/anaconda3/lib/python3.9/site-packages (from requests<3,>=2.27.0->tweepy) (3.3)\n",
      "Requirement already satisfied: urllib3<1.27,>=1.21.1 in /Users/ankush.singal/opt/anaconda3/lib/python3.9/site-packages (from requests<3,>=2.27.0->tweepy) (1.26.9)\n",
      "Installing collected packages: tweepy\n",
      "Successfully installed tweepy-4.10.0\n",
      "Collecting en-core-web-sm==3.3.0\n",
      "  Downloading https://github.com/explosion/spacy-models/releases/download/en_core_web_sm-3.3.0/en_core_web_sm-3.3.0-py3-none-any.whl (12.8 MB)\n",
      "\u001b[2K     \u001b[90m━━━━━━━━━━━━━━━━━━━━━━━━━━━━━━━━━━━━━━━━\u001b[0m \u001b[32m12.8/12.8 MB\u001b[0m \u001b[31m1.9 MB/s\u001b[0m eta \u001b[36m0:00:00\u001b[0m00:01\u001b[0m00:01\u001b[0mm\n",
      "\u001b[?25hRequirement already satisfied: spacy<3.4.0,>=3.3.0.dev0 in /Users/ankush.singal/opt/anaconda3/lib/python3.9/site-packages (from en-core-web-sm==3.3.0) (3.3.1)\n",
      "Requirement already satisfied: cymem<2.1.0,>=2.0.2 in /Users/ankush.singal/opt/anaconda3/lib/python3.9/site-packages (from spacy<3.4.0,>=3.3.0.dev0->en-core-web-sm==3.3.0) (2.0.6)\n",
      "Requirement already satisfied: catalogue<2.1.0,>=2.0.6 in /Users/ankush.singal/opt/anaconda3/lib/python3.9/site-packages (from spacy<3.4.0,>=3.3.0.dev0->en-core-web-sm==3.3.0) (2.0.7)\n",
      "Requirement already satisfied: srsly<3.0.0,>=2.4.3 in /Users/ankush.singal/opt/anaconda3/lib/python3.9/site-packages (from spacy<3.4.0,>=3.3.0.dev0->en-core-web-sm==3.3.0) (2.4.3)\n",
      "Requirement already satisfied: typer<0.5.0,>=0.3.0 in /Users/ankush.singal/opt/anaconda3/lib/python3.9/site-packages (from spacy<3.4.0,>=3.3.0.dev0->en-core-web-sm==3.3.0) (0.4.1)\n",
      "Requirement already satisfied: jinja2 in /Users/ankush.singal/opt/anaconda3/lib/python3.9/site-packages (from spacy<3.4.0,>=3.3.0.dev0->en-core-web-sm==3.3.0) (2.11.3)\n",
      "Requirement already satisfied: requests<3.0.0,>=2.13.0 in /Users/ankush.singal/opt/anaconda3/lib/python3.9/site-packages (from spacy<3.4.0,>=3.3.0.dev0->en-core-web-sm==3.3.0) (2.27.1)\n",
      "Requirement already satisfied: preshed<3.1.0,>=3.0.2 in /Users/ankush.singal/opt/anaconda3/lib/python3.9/site-packages (from spacy<3.4.0,>=3.3.0.dev0->en-core-web-sm==3.3.0) (3.0.6)\n",
      "Requirement already satisfied: pathy>=0.3.5 in /Users/ankush.singal/opt/anaconda3/lib/python3.9/site-packages (from spacy<3.4.0,>=3.3.0.dev0->en-core-web-sm==3.3.0) (0.6.1)\n",
      "Requirement already satisfied: numpy>=1.15.0 in /Users/ankush.singal/opt/anaconda3/lib/python3.9/site-packages (from spacy<3.4.0,>=3.3.0.dev0->en-core-web-sm==3.3.0) (1.21.5)\n",
      "Requirement already satisfied: packaging>=20.0 in /Users/ankush.singal/opt/anaconda3/lib/python3.9/site-packages (from spacy<3.4.0,>=3.3.0.dev0->en-core-web-sm==3.3.0) (21.3)\n",
      "Requirement already satisfied: blis<0.8.0,>=0.4.0 in /Users/ankush.singal/opt/anaconda3/lib/python3.9/site-packages (from spacy<3.4.0,>=3.3.0.dev0->en-core-web-sm==3.3.0) (0.7.7)\n",
      "Requirement already satisfied: murmurhash<1.1.0,>=0.28.0 in /Users/ankush.singal/opt/anaconda3/lib/python3.9/site-packages (from spacy<3.4.0,>=3.3.0.dev0->en-core-web-sm==3.3.0) (1.0.7)\n",
      "Requirement already satisfied: langcodes<4.0.0,>=3.2.0 in /Users/ankush.singal/opt/anaconda3/lib/python3.9/site-packages (from spacy<3.4.0,>=3.3.0.dev0->en-core-web-sm==3.3.0) (3.3.0)\n",
      "Requirement already satisfied: spacy-loggers<2.0.0,>=1.0.0 in /Users/ankush.singal/opt/anaconda3/lib/python3.9/site-packages (from spacy<3.4.0,>=3.3.0.dev0->en-core-web-sm==3.3.0) (1.0.2)\n",
      "Requirement already satisfied: spacy-legacy<3.1.0,>=3.0.9 in /Users/ankush.singal/opt/anaconda3/lib/python3.9/site-packages (from spacy<3.4.0,>=3.3.0.dev0->en-core-web-sm==3.3.0) (3.0.9)\n",
      "Requirement already satisfied: thinc<8.1.0,>=8.0.14 in /Users/ankush.singal/opt/anaconda3/lib/python3.9/site-packages (from spacy<3.4.0,>=3.3.0.dev0->en-core-web-sm==3.3.0) (8.0.17)\n",
      "Requirement already satisfied: wasabi<1.1.0,>=0.9.1 in /Users/ankush.singal/opt/anaconda3/lib/python3.9/site-packages (from spacy<3.4.0,>=3.3.0.dev0->en-core-web-sm==3.3.0) (0.9.1)\n",
      "Requirement already satisfied: setuptools in /Users/ankush.singal/opt/anaconda3/lib/python3.9/site-packages (from spacy<3.4.0,>=3.3.0.dev0->en-core-web-sm==3.3.0) (62.3.3)\n",
      "Requirement already satisfied: tqdm<5.0.0,>=4.38.0 in /Users/ankush.singal/opt/anaconda3/lib/python3.9/site-packages (from spacy<3.4.0,>=3.3.0.dev0->en-core-web-sm==3.3.0) (4.64.0)\n",
      "Requirement already satisfied: pydantic!=1.8,!=1.8.1,<1.9.0,>=1.7.4 in /Users/ankush.singal/opt/anaconda3/lib/python3.9/site-packages (from spacy<3.4.0,>=3.3.0.dev0->en-core-web-sm==3.3.0) (1.8.2)\n",
      "Requirement already satisfied: pyparsing!=3.0.5,>=2.0.2 in /Users/ankush.singal/opt/anaconda3/lib/python3.9/site-packages (from packaging>=20.0->spacy<3.4.0,>=3.3.0.dev0->en-core-web-sm==3.3.0) (3.0.4)\n",
      "Requirement already satisfied: smart-open<6.0.0,>=5.0.0 in /Users/ankush.singal/opt/anaconda3/lib/python3.9/site-packages (from pathy>=0.3.5->spacy<3.4.0,>=3.3.0.dev0->en-core-web-sm==3.3.0) (5.2.1)\n",
      "Requirement already satisfied: typing-extensions>=3.7.4.3 in /Users/ankush.singal/opt/anaconda3/lib/python3.9/site-packages (from pydantic!=1.8,!=1.8.1,<1.9.0,>=1.7.4->spacy<3.4.0,>=3.3.0.dev0->en-core-web-sm==3.3.0) (4.1.1)\n",
      "Requirement already satisfied: idna<4,>=2.5 in /Users/ankush.singal/opt/anaconda3/lib/python3.9/site-packages (from requests<3.0.0,>=2.13.0->spacy<3.4.0,>=3.3.0.dev0->en-core-web-sm==3.3.0) (3.3)\n",
      "Requirement already satisfied: charset-normalizer~=2.0.0 in /Users/ankush.singal/opt/anaconda3/lib/python3.9/site-packages (from requests<3.0.0,>=2.13.0->spacy<3.4.0,>=3.3.0.dev0->en-core-web-sm==3.3.0) (2.0.4)\n",
      "Requirement already satisfied: certifi>=2017.4.17 in /Users/ankush.singal/opt/anaconda3/lib/python3.9/site-packages (from requests<3.0.0,>=2.13.0->spacy<3.4.0,>=3.3.0.dev0->en-core-web-sm==3.3.0) (2022.5.18.1)\n",
      "Requirement already satisfied: urllib3<1.27,>=1.21.1 in /Users/ankush.singal/opt/anaconda3/lib/python3.9/site-packages (from requests<3.0.0,>=2.13.0->spacy<3.4.0,>=3.3.0.dev0->en-core-web-sm==3.3.0) (1.26.9)\n",
      "Requirement already satisfied: click<9.0.0,>=7.1.1 in /Users/ankush.singal/opt/anaconda3/lib/python3.9/site-packages (from typer<0.5.0,>=0.3.0->spacy<3.4.0,>=3.3.0.dev0->en-core-web-sm==3.3.0) (8.0.4)\n",
      "Requirement already satisfied: MarkupSafe>=0.23 in /Users/ankush.singal/opt/anaconda3/lib/python3.9/site-packages (from jinja2->spacy<3.4.0,>=3.3.0.dev0->en-core-web-sm==3.3.0) (2.0.1)\n",
      "\u001b[38;5;2m✔ Download and installation successful\u001b[0m\n",
      "You can now load the package via spacy.load('en_core_web_sm')\n",
      "Collecting en-core-web-lg==3.3.0\n",
      "  Downloading https://github.com/explosion/spacy-models/releases/download/en_core_web_lg-3.3.0/en_core_web_lg-3.3.0-py3-none-any.whl (400.7 MB)\n",
      "\u001b[2K     \u001b[90m━━━━━━━━━━━━━━━━━━━━━━━━━━━━━━━━━━━━━━━\u001b[0m \u001b[32m400.7/400.7 MB\u001b[0m \u001b[31m1.9 MB/s\u001b[0m eta \u001b[36m0:00:00\u001b[0m00:01\u001b[0m00:03\u001b[0m\n",
      "\u001b[?25hRequirement already satisfied: spacy<3.4.0,>=3.3.0.dev0 in /Users/ankush.singal/opt/anaconda3/lib/python3.9/site-packages (from en-core-web-lg==3.3.0) (3.3.1)\n",
      "Requirement already satisfied: spacy-loggers<2.0.0,>=1.0.0 in /Users/ankush.singal/opt/anaconda3/lib/python3.9/site-packages (from spacy<3.4.0,>=3.3.0.dev0->en-core-web-lg==3.3.0) (1.0.2)\n",
      "Requirement already satisfied: wasabi<1.1.0,>=0.9.1 in /Users/ankush.singal/opt/anaconda3/lib/python3.9/site-packages (from spacy<3.4.0,>=3.3.0.dev0->en-core-web-lg==3.3.0) (0.9.1)\n",
      "Requirement already satisfied: blis<0.8.0,>=0.4.0 in /Users/ankush.singal/opt/anaconda3/lib/python3.9/site-packages (from spacy<3.4.0,>=3.3.0.dev0->en-core-web-lg==3.3.0) (0.7.7)\n",
      "Requirement already satisfied: typer<0.5.0,>=0.3.0 in /Users/ankush.singal/opt/anaconda3/lib/python3.9/site-packages (from spacy<3.4.0,>=3.3.0.dev0->en-core-web-lg==3.3.0) (0.4.1)\n",
      "Requirement already satisfied: pathy>=0.3.5 in /Users/ankush.singal/opt/anaconda3/lib/python3.9/site-packages (from spacy<3.4.0,>=3.3.0.dev0->en-core-web-lg==3.3.0) (0.6.1)\n",
      "Requirement already satisfied: setuptools in /Users/ankush.singal/opt/anaconda3/lib/python3.9/site-packages (from spacy<3.4.0,>=3.3.0.dev0->en-core-web-lg==3.3.0) (62.3.3)\n",
      "Requirement already satisfied: murmurhash<1.1.0,>=0.28.0 in /Users/ankush.singal/opt/anaconda3/lib/python3.9/site-packages (from spacy<3.4.0,>=3.3.0.dev0->en-core-web-lg==3.3.0) (1.0.7)\n",
      "Requirement already satisfied: langcodes<4.0.0,>=3.2.0 in /Users/ankush.singal/opt/anaconda3/lib/python3.9/site-packages (from spacy<3.4.0,>=3.3.0.dev0->en-core-web-lg==3.3.0) (3.3.0)\n",
      "Requirement already satisfied: numpy>=1.15.0 in /Users/ankush.singal/opt/anaconda3/lib/python3.9/site-packages (from spacy<3.4.0,>=3.3.0.dev0->en-core-web-lg==3.3.0) (1.21.5)\n",
      "Requirement already satisfied: packaging>=20.0 in /Users/ankush.singal/opt/anaconda3/lib/python3.9/site-packages (from spacy<3.4.0,>=3.3.0.dev0->en-core-web-lg==3.3.0) (21.3)\n",
      "Requirement already satisfied: cymem<2.1.0,>=2.0.2 in /Users/ankush.singal/opt/anaconda3/lib/python3.9/site-packages (from spacy<3.4.0,>=3.3.0.dev0->en-core-web-lg==3.3.0) (2.0.6)\n",
      "Requirement already satisfied: jinja2 in /Users/ankush.singal/opt/anaconda3/lib/python3.9/site-packages (from spacy<3.4.0,>=3.3.0.dev0->en-core-web-lg==3.3.0) (2.11.3)\n",
      "Requirement already satisfied: srsly<3.0.0,>=2.4.3 in /Users/ankush.singal/opt/anaconda3/lib/python3.9/site-packages (from spacy<3.4.0,>=3.3.0.dev0->en-core-web-lg==3.3.0) (2.4.3)\n",
      "Requirement already satisfied: requests<3.0.0,>=2.13.0 in /Users/ankush.singal/opt/anaconda3/lib/python3.9/site-packages (from spacy<3.4.0,>=3.3.0.dev0->en-core-web-lg==3.3.0) (2.27.1)\n",
      "Requirement already satisfied: tqdm<5.0.0,>=4.38.0 in /Users/ankush.singal/opt/anaconda3/lib/python3.9/site-packages (from spacy<3.4.0,>=3.3.0.dev0->en-core-web-lg==3.3.0) (4.64.0)\n",
      "Requirement already satisfied: catalogue<2.1.0,>=2.0.6 in /Users/ankush.singal/opt/anaconda3/lib/python3.9/site-packages (from spacy<3.4.0,>=3.3.0.dev0->en-core-web-lg==3.3.0) (2.0.7)\n",
      "Requirement already satisfied: spacy-legacy<3.1.0,>=3.0.9 in /Users/ankush.singal/opt/anaconda3/lib/python3.9/site-packages (from spacy<3.4.0,>=3.3.0.dev0->en-core-web-lg==3.3.0) (3.0.9)\n",
      "Requirement already satisfied: preshed<3.1.0,>=3.0.2 in /Users/ankush.singal/opt/anaconda3/lib/python3.9/site-packages (from spacy<3.4.0,>=3.3.0.dev0->en-core-web-lg==3.3.0) (3.0.6)\n",
      "Requirement already satisfied: pydantic!=1.8,!=1.8.1,<1.9.0,>=1.7.4 in /Users/ankush.singal/opt/anaconda3/lib/python3.9/site-packages (from spacy<3.4.0,>=3.3.0.dev0->en-core-web-lg==3.3.0) (1.8.2)\n",
      "Requirement already satisfied: thinc<8.1.0,>=8.0.14 in /Users/ankush.singal/opt/anaconda3/lib/python3.9/site-packages (from spacy<3.4.0,>=3.3.0.dev0->en-core-web-lg==3.3.0) (8.0.17)\n",
      "Requirement already satisfied: pyparsing!=3.0.5,>=2.0.2 in /Users/ankush.singal/opt/anaconda3/lib/python3.9/site-packages (from packaging>=20.0->spacy<3.4.0,>=3.3.0.dev0->en-core-web-lg==3.3.0) (3.0.4)\n"
     ]
    },
    {
     "name": "stdout",
     "output_type": "stream",
     "text": [
      "Requirement already satisfied: smart-open<6.0.0,>=5.0.0 in /Users/ankush.singal/opt/anaconda3/lib/python3.9/site-packages (from pathy>=0.3.5->spacy<3.4.0,>=3.3.0.dev0->en-core-web-lg==3.3.0) (5.2.1)\n",
      "Requirement already satisfied: typing-extensions>=3.7.4.3 in /Users/ankush.singal/opt/anaconda3/lib/python3.9/site-packages (from pydantic!=1.8,!=1.8.1,<1.9.0,>=1.7.4->spacy<3.4.0,>=3.3.0.dev0->en-core-web-lg==3.3.0) (4.1.1)\n",
      "Requirement already satisfied: idna<4,>=2.5 in /Users/ankush.singal/opt/anaconda3/lib/python3.9/site-packages (from requests<3.0.0,>=2.13.0->spacy<3.4.0,>=3.3.0.dev0->en-core-web-lg==3.3.0) (3.3)\n",
      "Requirement already satisfied: charset-normalizer~=2.0.0 in /Users/ankush.singal/opt/anaconda3/lib/python3.9/site-packages (from requests<3.0.0,>=2.13.0->spacy<3.4.0,>=3.3.0.dev0->en-core-web-lg==3.3.0) (2.0.4)\n",
      "Requirement already satisfied: certifi>=2017.4.17 in /Users/ankush.singal/opt/anaconda3/lib/python3.9/site-packages (from requests<3.0.0,>=2.13.0->spacy<3.4.0,>=3.3.0.dev0->en-core-web-lg==3.3.0) (2022.5.18.1)\n",
      "Requirement already satisfied: urllib3<1.27,>=1.21.1 in /Users/ankush.singal/opt/anaconda3/lib/python3.9/site-packages (from requests<3.0.0,>=2.13.0->spacy<3.4.0,>=3.3.0.dev0->en-core-web-lg==3.3.0) (1.26.9)\n",
      "Requirement already satisfied: click<9.0.0,>=7.1.1 in /Users/ankush.singal/opt/anaconda3/lib/python3.9/site-packages (from typer<0.5.0,>=0.3.0->spacy<3.4.0,>=3.3.0.dev0->en-core-web-lg==3.3.0) (8.0.4)\n",
      "Requirement already satisfied: MarkupSafe>=0.23 in /Users/ankush.singal/opt/anaconda3/lib/python3.9/site-packages (from jinja2->spacy<3.4.0,>=3.3.0.dev0->en-core-web-lg==3.3.0) (2.0.1)\n",
      "Installing collected packages: en-core-web-lg\n",
      "Successfully installed en-core-web-lg-3.3.0\n",
      "\u001b[38;5;2m✔ Download and installation successful\u001b[0m\n",
      "You can now load the package via spacy.load('en_core_web_lg')\n",
      "Collecting stanfordnlp\n",
      "  Downloading stanfordnlp-0.2.0-py3-none-any.whl (158 kB)\n",
      "\u001b[2K     \u001b[90m━━━━━━━━━━━━━━━━━━━━━━━━━━━━━━━━━━━━━━━\u001b[0m \u001b[32m158.8/158.8 kB\u001b[0m \u001b[31m2.5 MB/s\u001b[0m eta \u001b[36m0:00:00\u001b[0ma \u001b[36m0:00:01\u001b[0m\n",
      "\u001b[?25hRequirement already satisfied: tqdm in /Users/ankush.singal/opt/anaconda3/lib/python3.9/site-packages (from stanfordnlp) (4.64.0)\n",
      "Requirement already satisfied: numpy in /Users/ankush.singal/opt/anaconda3/lib/python3.9/site-packages (from stanfordnlp) (1.21.5)\n",
      "Requirement already satisfied: protobuf in /Users/ankush.singal/opt/anaconda3/lib/python3.9/site-packages (from stanfordnlp) (3.19.4)\n",
      "Requirement already satisfied: requests in /Users/ankush.singal/opt/anaconda3/lib/python3.9/site-packages (from stanfordnlp) (2.27.1)\n",
      "Requirement already satisfied: torch>=1.0.0 in /Users/ankush.singal/opt/anaconda3/lib/python3.9/site-packages (from stanfordnlp) (1.11.0)\n",
      "Requirement already satisfied: typing-extensions in /Users/ankush.singal/opt/anaconda3/lib/python3.9/site-packages (from torch>=1.0.0->stanfordnlp) (4.1.1)\n",
      "Requirement already satisfied: charset-normalizer~=2.0.0 in /Users/ankush.singal/opt/anaconda3/lib/python3.9/site-packages (from requests->stanfordnlp) (2.0.4)\n",
      "Requirement already satisfied: certifi>=2017.4.17 in /Users/ankush.singal/opt/anaconda3/lib/python3.9/site-packages (from requests->stanfordnlp) (2022.5.18.1)\n",
      "Requirement already satisfied: urllib3<1.27,>=1.21.1 in /Users/ankush.singal/opt/anaconda3/lib/python3.9/site-packages (from requests->stanfordnlp) (1.26.9)\n",
      "Requirement already satisfied: idna<4,>=2.5 in /Users/ankush.singal/opt/anaconda3/lib/python3.9/site-packages (from requests->stanfordnlp) (3.3)\n",
      "Installing collected packages: stanfordnlp\n",
      "Successfully installed stanfordnlp-0.2.0\n"
     ]
    }
   ],
   "source": [
    "!python3 -m pip install tweepy\n",
    "!python -m spacy download en_core_web_sm\n",
    "!python -m spacy download en_core_web_lg\n",
    "!pip install stanfordnlp"
   ]
  },
  {
   "cell_type": "code",
   "execution_count": 2,
   "id": "26f6dda2",
   "metadata": {},
   "outputs": [
    {
     "name": "stderr",
     "output_type": "stream",
     "text": [
      "[nltk_data] Downloading package stopwords to\n",
      "[nltk_data]     /Users/ankush.singal/nltk_data...\n",
      "[nltk_data]   Package stopwords is already up-to-date!\n"
     ]
    }
   ],
   "source": [
    "#import libraries\n",
    "import pandas as pd\n",
    "import string\n",
    "from tqdm.notebook import tqdm_notebook\n",
    "import warnings\n",
    "import time\n",
    "import csv\n",
    "import base64\n",
    "import json\n",
    "\n",
    "import matplotlib.pyplot as plt\n",
    "import seaborn as sns\n",
    "\n",
    "import nltk\n",
    "nltk.download('stopwords')\n",
    "from nltk.corpus import stopwords\n",
    "stop = stopwords.words()\n",
    "\n",
    "import spacy\n",
    "import re\n",
    "\n",
    "# load a trained English pipeline \n",
    "nlp = spacy.load(\"en_core_web_sm\")\n",
    "from nltk.corpus import wordnet\n",
    "from nltk.tokenize import word_tokenize, sent_tokenize\n",
    "from nltk.stem.wordnet import WordNetLemmatizer \n",
    "import stanfordnlp\n",
    "\n",
    "from transformers import AutoTokenizer, AutoModelForQuestionAnswering, AutoModelForSequenceClassification\n",
    "from transformers import pipeline\n",
    "\n",
    "\n",
    "import tweepy\n",
    "from tweepy import OAuthHandler\n",
    "\n",
    "# initiate tqdm for pandas.apply() functions\n",
    "tqdm_notebook.pandas()"
   ]
  },
  {
   "cell_type": "code",
   "execution_count": 3,
   "id": "1dff6de5",
   "metadata": {},
   "outputs": [],
   "source": [
    "# suppress all warnings\n",
    "warnings.simplefilter('ignore')\n",
    "\n",
    "# expand notebook display options for dataframes\n",
    "pd.set_option('display.max_colwidth', 200)\n",
    "pd.options.display.max_columns = 999\n",
    "pd.options.display.max_rows = 300"
   ]
  },
  {
   "cell_type": "code",
   "execution_count": 4,
   "id": "a3bfe5b6",
   "metadata": {},
   "outputs": [],
   "source": [
    "#twitter credentials\n",
    "consumer_key = \"EhOZiQEfg2b8HfBeKjhX9ezB6\"\n",
    "consumer_secret = \"jbJcZi5g5qGSYrIGzaatDuiYPg8QpYfURdjmfbfgZZk5RUYvgb\"\n",
    "access_token = \"232661448-pdfmND03rvRkbPDWPfUGxuHY8ZHOENkNLSHZarPr\"\n",
    "access_token_secret = \"CFAcNGLqMM24Nh8m3uQglb6CSpYU5vZtTp9j4Xvd7bB5S\"\n",
    "hashtag='oneplus7pro'\n",
    "tweet_count=50\n",
    "\n",
    "# #Authenticate credentials\n",
    "# auth = OAuthHandler(consumer_key, consumer_secret)\n",
    "# auth.set_access_token(access_token, access_secret)\n",
    "\n",
    "# api = tweepy.API(auth,wait_on_rate_limit=True)\n",
    "\n",
    "# tweet_created = []\n",
    "# tweet_text = []\n",
    "# tweets = tweepy.Cursor(api.search_tweets,q='hare krsna',count=30, lang=\"en\")\n",
    "# for tweet in tweets.items():\n",
    "#     tweet_created.append(tweet.created_at)\n",
    "#     tweet_text.append(tweet.text)  \n",
    "\n",
    "# df = pd.DataFrame(columns=['created_on','tweets'])\n",
    "# df['created_on'] = tweet_created\n",
    "# df['tweets']= tweet_text"
   ]
  },
  {
   "cell_type": "code",
   "execution_count": 49,
   "id": "ff9fb89a",
   "metadata": {},
   "outputs": [],
   "source": [
    "#method to fetch tweets from twitter\n",
    "def get_tweets(hashtag, consumer_key, consumer_secret, access_token, access_token_secret, tweet_count):\n",
    "    #authentication using credentials\n",
    "    auth = tweepy.OAuthHandler(consumer_key, consumer_secret)\n",
    "    auth.set_access_token(access_token, access_token_secret)\n",
    "    api = tweepy.API(auth,wait_on_rate_limit=True)\n",
    "\n",
    "    #fetching tweets holding specific hashtag\n",
    "    tweet_text, tweet_created = list(), list()\n",
    "    for tweet in tweepy.Cursor(api.search_tweets,q=hashtag, count=tweet_count, lang=\"en\").items():\n",
    "        tweet_text.append(tweet.text.encode('utf-8'))\n",
    "        tweet_created.append(tweet.created_at)\n",
    "       \n",
    "    #creating dataframe    \n",
    "    df = pd.DataFrame({'tweets': tweet_text, 'created_on': tweet_created})\n",
    "    return df"
   ]
  },
  {
   "cell_type": "code",
   "execution_count": 50,
   "id": "0201d91e",
   "metadata": {},
   "outputs": [],
   "source": [
    "twitter_content = get_tweets(hashtag, consumer_key, consumer_secret, access_token, access_token_secret, tweet_count=50)"
   ]
  },
  {
   "cell_type": "code",
   "execution_count": 51,
   "id": "1b162305",
   "metadata": {},
   "outputs": [],
   "source": [
    "#twitter_content"
   ]
  },
  {
   "cell_type": "markdown",
   "id": "d1a5df79",
   "metadata": {},
   "source": [
    "# Data Cleaning\n",
    "\n",
    "Extracted tweet text may contain hashtags, tagging account, emojis, web-site/HTTP links, and HTML tags that need to be removed in pre-processing steps."
   ]
  },
  {
   "cell_type": "code",
   "execution_count": 52,
   "id": "e8894e43",
   "metadata": {},
   "outputs": [
    {
     "name": "stdout",
     "output_type": "stream",
     "text": [
      "Requirement already satisfied: urlextract in /Users/ankush.singal/opt/anaconda3/lib/python3.9/site-packages (1.6.0)\r\n",
      "Requirement already satisfied: platformdirs in /Users/ankush.singal/opt/anaconda3/lib/python3.9/site-packages (from urlextract) (2.5.2)\r\n",
      "Requirement already satisfied: idna in /Users/ankush.singal/opt/anaconda3/lib/python3.9/site-packages (from urlextract) (3.3)\r\n",
      "Requirement already satisfied: uritools in /Users/ankush.singal/opt/anaconda3/lib/python3.9/site-packages (from urlextract) (4.0.0)\r\n",
      "Requirement already satisfied: filelock in /Users/ankush.singal/opt/anaconda3/lib/python3.9/site-packages (from urlextract) (3.6.0)\r\n"
     ]
    }
   ],
   "source": [
    "!pip install urlextract"
   ]
  },
  {
   "cell_type": "code",
   "execution_count": 53,
   "id": "5bfc78be",
   "metadata": {},
   "outputs": [],
   "source": [
    "import re\n",
    "from urlextract import URLExtract\n",
    "extractor = URLExtract()\n",
    "import contractions\n",
    "import nltk\n",
    "\n",
    "\n",
    "def preprocess(text):\n",
    "    #to lowercase\n",
    "    text = str(text).lower()\n",
    "    #remove urls\n",
    "    urls = extractor.find_urls(text)\n",
    "    for url in urls:\n",
    "        text = text.replace(url, '')\n",
    "    #remove new lines\n",
    "    text = text.replace('\\\\n',' ')\n",
    "    #remove none meaningful    \n",
    "    text = re.sub(r'\\\\x[0-9a-f]{2}', '',text)\n",
    "    #remove emails\n",
    "    text = re.sub(r'\\S*@\\S*\\s?',' ',text)\n",
    "    #remove mentions\n",
    "    text = re.sub(r'@\\S+', ' ', text)\n",
    "    #contractions\n",
    "    text = contractions.fix(text)\n",
    "    #remove hashtags\n",
    "    text = re.sub(r'@\\S+', ' ', text)\n",
    "    #remove emojis\n",
    "    text = re.sub(r'[^\\x00-\\x7F]+', ' ', text)\n",
    "    #remove retweets\n",
    "    text = text.replace(r'rt', '')\n",
    "    #remove all punct\n",
    "    text = re.sub('[^A-z0-9]', ' ', text)\n",
    "    #remove extras whitespaces\n",
    "    text = re.sub('\\s+', ' ', text)\n",
    "    return text"
   ]
  },
  {
   "cell_type": "code",
   "execution_count": 54,
   "id": "2bc83cfb",
   "metadata": {},
   "outputs": [],
   "source": [
    "# twitter_content['preprocess_data'] = twitter_content['tweets'].apply(preprocess)"
   ]
  },
  {
   "cell_type": "code",
   "execution_count": 55,
   "id": "6c4d0e2b",
   "metadata": {},
   "outputs": [],
   "source": [
    "# twitter_content.head()"
   ]
  },
  {
   "cell_type": "markdown",
   "id": "513658fd",
   "metadata": {},
   "source": [
    "# Extracting Nouns and Synonyms\n",
    "The aspects provided by the user during an invocation are used in this phase. Nouns are extracted from tweets as aspects might be mentioned in tweets as alternate terms. For instance, a “screen” can be called a “display” for a product like a cell phone. To extract such terms which are directly correlated with aspects, we extract all nouns from tweets. Thereafter, we find similarities between extracted nouns and aspects to know the nouns which are alternate names used for aspects in tweets.\n",
    "\n",
    "Nouns are extracted using part-of-speech (POS), an NLP technique that assigns the part-of-speech to every token of text. Part of speech might be nouns, pronouns, adjectives, adverbs, etc. Part-of-speech assigns one of this grammar entities to every token of a sentence."
   ]
  },
  {
   "cell_type": "code",
   "execution_count": 56,
   "id": "b3ecfc0d",
   "metadata": {},
   "outputs": [],
   "source": [
    "def get_noun(lines):\n",
    "\ttokenized = nltk.word_tokenize(lines)\n",
    "\t#extracts token whose pos ends with 'NN' i.e. extracts any type of noun whether proper or common\n",
    "\tnouns = set([word for (word, pos) in nltk.pos_tag(tokenized) if(pos[:2] == 'NN')])\n",
    "\treturn nouns"
   ]
  },
  {
   "cell_type": "markdown",
   "id": "80a46a5f",
   "metadata": {},
   "source": [
    "# https://www.geeksforgeeks.org/aspect-modelling-in-sentiment-analysis/"
   ]
  },
  {
   "cell_type": "code",
   "execution_count": 58,
   "id": "f6d909f6",
   "metadata": {},
   "outputs": [
    {
     "ename": "AttributeError",
     "evalue": "'DataFrame' object has no attribute 'preprocess_data'",
     "output_type": "error",
     "traceback": [
      "\u001b[0;31m---------------------------------------------------------------------------\u001b[0m",
      "\u001b[0;31mAttributeError\u001b[0m                            Traceback (most recent call last)",
      "Input \u001b[0;32mIn [58]\u001b[0m, in \u001b[0;36m<cell line: 4>\u001b[0;34m()\u001b[0m\n\u001b[1;32m      1\u001b[0m ext_aspects \u001b[38;5;241m=\u001b[39m []\n\u001b[1;32m      3\u001b[0m \u001b[38;5;66;03m# Performing Aspect Extraction\u001b[39;00m\n\u001b[0;32m----> 4\u001b[0m \u001b[38;5;28;01mfor\u001b[39;00m sen \u001b[38;5;129;01min\u001b[39;00m \u001b[43mtwitter_content\u001b[49m\u001b[38;5;241;43m.\u001b[39;49m\u001b[43mpreprocess_data\u001b[49m:\n\u001b[1;32m      5\u001b[0m   important \u001b[38;5;241m=\u001b[39m nlp(sen)\n\u001b[1;32m      6\u001b[0m   descriptive_item \u001b[38;5;241m=\u001b[39m \u001b[38;5;124m'\u001b[39m\u001b[38;5;124m'\u001b[39m\n",
      "File \u001b[0;32m~/opt/anaconda3/lib/python3.9/site-packages/pandas/core/generic.py:5575\u001b[0m, in \u001b[0;36mNDFrame.__getattr__\u001b[0;34m(self, name)\u001b[0m\n\u001b[1;32m   5568\u001b[0m \u001b[38;5;28;01mif\u001b[39;00m (\n\u001b[1;32m   5569\u001b[0m     name \u001b[38;5;129;01mnot\u001b[39;00m \u001b[38;5;129;01min\u001b[39;00m \u001b[38;5;28mself\u001b[39m\u001b[38;5;241m.\u001b[39m_internal_names_set\n\u001b[1;32m   5570\u001b[0m     \u001b[38;5;129;01mand\u001b[39;00m name \u001b[38;5;129;01mnot\u001b[39;00m \u001b[38;5;129;01min\u001b[39;00m \u001b[38;5;28mself\u001b[39m\u001b[38;5;241m.\u001b[39m_metadata\n\u001b[1;32m   5571\u001b[0m     \u001b[38;5;129;01mand\u001b[39;00m name \u001b[38;5;129;01mnot\u001b[39;00m \u001b[38;5;129;01min\u001b[39;00m \u001b[38;5;28mself\u001b[39m\u001b[38;5;241m.\u001b[39m_accessors\n\u001b[1;32m   5572\u001b[0m     \u001b[38;5;129;01mand\u001b[39;00m \u001b[38;5;28mself\u001b[39m\u001b[38;5;241m.\u001b[39m_info_axis\u001b[38;5;241m.\u001b[39m_can_hold_identifiers_and_holds_name(name)\n\u001b[1;32m   5573\u001b[0m ):\n\u001b[1;32m   5574\u001b[0m     \u001b[38;5;28;01mreturn\u001b[39;00m \u001b[38;5;28mself\u001b[39m[name]\n\u001b[0;32m-> 5575\u001b[0m \u001b[38;5;28;01mreturn\u001b[39;00m \u001b[38;5;28;43mobject\u001b[39;49m\u001b[38;5;241;43m.\u001b[39;49m\u001b[38;5;21;43m__getattribute__\u001b[39;49m\u001b[43m(\u001b[49m\u001b[38;5;28;43mself\u001b[39;49m\u001b[43m,\u001b[49m\u001b[43m \u001b[49m\u001b[43mname\u001b[49m\u001b[43m)\u001b[49m\n",
      "\u001b[0;31mAttributeError\u001b[0m: 'DataFrame' object has no attribute 'preprocess_data'"
     ]
    }
   ],
   "source": [
    "# ext_aspects = []\n",
    "  \n",
    "# # Performing Aspect Extraction\n",
    "# for sen in twitter_content.preprocess_data:\n",
    "#   important = nlp(sen)\n",
    "#   descriptive_item = ''\n",
    "#   target = ''\n",
    "#   for token in important:\n",
    "#     if token.dep_ == 'nsubj' and token.pos_ == 'NOUN':\n",
    "#       target = token.text\n",
    "#     if token.pos_ == 'ADJ':\n",
    "#       added_terms = ''\n",
    "#       for mini_token in token.children:\n",
    "#         if mini_token.pos_ != 'ADV':\n",
    "#           continue\n",
    "#         added_terms += mini_token.text + ' '\n",
    "#       descriptive_item = added_terms + token.text\n",
    "#   ext_aspects.append({'aspect': target,\n",
    "#     'description': descriptive_item})\n",
    "  \n",
    "# print(\"ASPECT EXTRACTION\\n\")\n",
    "# ext_aspects"
   ]
  },
  {
   "cell_type": "markdown",
   "id": "824d1768",
   "metadata": {},
   "source": [
    "2. Synonyms are extracted using word similarity between aspects provided and nouns extracted in the previous step. Word similarity is computed using spacy’s English large model. This model provides us with the embedding of both the words, the first being the noun and the second being the aspect. Embedding is the numeric representation of words. Then, cosine similarity is computed of both words’ embedding using the “similarity” method of spacy. It is used to find synonyms used for aspects in specific tweets.\n",
    "\n",
    "For instance, the user has passed the aspects “screen” and “price” as aspects during invocation and “display” is the noun extracted from the tweet then cosine similarity will be high for “display” and “screen” as compared to “display” and “price”. Hence, we can conclude that “display” is the synonym used in place of aspect “screen” in the tweet. Here, we consider two words as similar only if their cosine similarity is greater than 60 percent."
   ]
  },
  {
   "cell_type": "code",
   "execution_count": null,
   "id": "94c81e7d",
   "metadata": {},
   "outputs": [],
   "source": []
  },
  {
   "cell_type": "code",
   "execution_count": 14,
   "id": "b3b69b87",
   "metadata": {},
   "outputs": [],
   "source": [
    "#loading the english large model\n",
    "nlp = spacy.load('en_core_web_lg')\n",
    "#method to get list of aspects and their respective noun representations\n",
    "def get_similar_words(nouns, aspects):\n",
    "\taspect_classes = {k: list() for k in aspects}\n",
    "\tfor noun in nouns:\n",
    "\t\tscores = list()\n",
    "\t\tfor aspect in aspects:\n",
    "\t\t\t#get embedding of both words (aspect and noun)\n",
    "\t\t\taspect_token = nlp(aspect)\n",
    "\t\t\tnoun_token = nlp(noun)\n",
    "\t\t\t#get similarity of both embedding\n",
    "\t\t\tsimilarity_score = aspect_token.similarity(noun_token)\n",
    "\t\t\tscores.append(similarity_score)\n",
    "\t\tindex = scores.index(max(scores))\n",
    "\t\taspect_name = aspects[index]\n",
    "\t\t\n",
    "\t\t#check if similarity score is greater than 60 percent\n",
    "\t\tif max(scores)>0.60:\n",
    "\t\t\tvalue = aspect_classes[aspect_name]\n",
    "\t\t\tvalue.append(noun)\n",
    "\t\t\taspect_classes[aspect_name] = list(set(value))\n",
    "\t\t\t\n",
    "\t\telse:\n",
    "\t\t\tpass\n",
    "\treturn aspect_classes\t"
   ]
  },
  {
   "cell_type": "markdown",
   "id": "b5ec576b",
   "metadata": {},
   "source": [
    "# Extract Describing phrases\n",
    "Sentiment can be computed on the phrases which are used to describe the aspects. Adjectives and adverbs form such phrases which describe the nouns. To extract such describing phrases, we have used the question-answering model. We haven’t trained a custom question-answering model but used one available from hugging face. More details about the question-answering model are mentioned in my GitHub repository, mentioned at the end of this article. We have used the preprocessed tweet as context and asked questions in the following format: “how is {aspect_name}”.\n",
    "\n",
    "This question extracts the describing phrases from the context for every aspect. For instance, a tweet after preprocessing states as “iPhone 13’s design is fantastic but the camera is disappointing”. Using it as context and asking questions such as “how is design” and “how is a camera” will yield answers such as “fantastic” and “disappointing” respectively.\n",
    "\n",
    "Note: For the question-answering model, it is necessary to maintain to grammar and lexical meaning of the tweet, that is why we have not removed stop words during preprocessing step.\n",
    "\n"
   ]
  },
  {
   "cell_type": "code",
   "execution_count": 15,
   "id": "264ace71",
   "metadata": {},
   "outputs": [
    {
     "data": {
      "application/vnd.jupyter.widget-view+json": {
       "model_id": "3f0be49c5e10425cb413bdf84527b137",
       "version_major": 2,
       "version_minor": 0
      },
      "text/plain": [
       "Downloading:   0%|          | 0.00/79.0 [00:00<?, ?B/s]"
      ]
     },
     "metadata": {},
     "output_type": "display_data"
    },
    {
     "data": {
      "application/vnd.jupyter.widget-view+json": {
       "model_id": "284dddb8cbb145939c010bb69de5b431",
       "version_major": 2,
       "version_minor": 0
      },
      "text/plain": [
       "Downloading:   0%|          | 0.00/571 [00:00<?, ?B/s]"
      ]
     },
     "metadata": {},
     "output_type": "display_data"
    },
    {
     "data": {
      "application/vnd.jupyter.widget-view+json": {
       "model_id": "b68daa942a7542e49e2410d94e8df203",
       "version_major": 2,
       "version_minor": 0
      },
      "text/plain": [
       "Downloading:   0%|          | 0.00/878k [00:00<?, ?B/s]"
      ]
     },
     "metadata": {},
     "output_type": "display_data"
    },
    {
     "data": {
      "application/vnd.jupyter.widget-view+json": {
       "model_id": "a1861dfa7703464ba08e9029062df559",
       "version_major": 2,
       "version_minor": 0
      },
      "text/plain": [
       "Downloading:   0%|          | 0.00/446k [00:00<?, ?B/s]"
      ]
     },
     "metadata": {},
     "output_type": "display_data"
    },
    {
     "data": {
      "application/vnd.jupyter.widget-view+json": {
       "model_id": "7a9b2e3dc7d2449bbfb553d2a6ea711c",
       "version_major": 2,
       "version_minor": 0
      },
      "text/plain": [
       "Downloading:   0%|          | 0.00/772 [00:00<?, ?B/s]"
      ]
     },
     "metadata": {},
     "output_type": "display_data"
    },
    {
     "data": {
      "application/vnd.jupyter.widget-view+json": {
       "model_id": "12dbe0a03c1a4b3bae41874aef161dde",
       "version_major": 2,
       "version_minor": 0
      },
      "text/plain": [
       "Downloading:   0%|          | 0.00/473M [00:00<?, ?B/s]"
      ]
     },
     "metadata": {},
     "output_type": "display_data"
    },
    {
     "data": {
      "application/vnd.jupyter.widget-view+json": {
       "model_id": "65a1a9b0346d406fb29df2cf1e1c68dc",
       "version_major": 2,
       "version_minor": 0
      },
      "text/plain": [
       "Downloading:   0%|          | 0.00/841 [00:00<?, ?B/s]"
      ]
     },
     "metadata": {},
     "output_type": "display_data"
    },
    {
     "data": {
      "application/vnd.jupyter.widget-view+json": {
       "model_id": "962fe55463d84402bd09273b62b6f75c",
       "version_major": 2,
       "version_minor": 0
      },
      "text/plain": [
       "Downloading:   0%|          | 0.00/4.83M [00:00<?, ?B/s]"
      ]
     },
     "metadata": {},
     "output_type": "display_data"
    },
    {
     "data": {
      "application/vnd.jupyter.widget-view+json": {
       "model_id": "5f66175a3248495ca55c736c9ab2d1d4",
       "version_major": 2,
       "version_minor": 0
      },
      "text/plain": [
       "Downloading:   0%|          | 0.00/150 [00:00<?, ?B/s]"
      ]
     },
     "metadata": {},
     "output_type": "display_data"
    },
    {
     "data": {
      "application/vnd.jupyter.widget-view+json": {
       "model_id": "9a920bff49d54433a90d98538dd2a6dd",
       "version_major": 2,
       "version_minor": 0
      },
      "text/plain": [
       "Downloading:   0%|          | 0.00/1.04G [00:00<?, ?B/s]"
      ]
     },
     "metadata": {},
     "output_type": "display_data"
    }
   ],
   "source": [
    "qa_tokenizer = AutoTokenizer.from_pretrained(\"deepset/roberta-base-squad2\")\n",
    "qa_model = AutoModelForQuestionAnswering.from_pretrained(\"deepset/roberta-base-squad2\")\n",
    "qa_model = pipeline('question-answering', model=qa_model, tokenizer=qa_tokenizer)\n",
    "\n",
    "sent_tokenizer = AutoTokenizer.from_pretrained(\"cardiffnlp/twitter-xlm-roberta-base-sentiment\")\n",
    "sent_model = AutoModelForSequenceClassification.from_pretrained(\"cardiffnlp/twitter-xlm-roberta-base-sentiment\")\n",
    "sent_model = pipeline('text-classification', model=sent_model, tokenizer=sent_tokenizer)"
   ]
  },
  {
   "cell_type": "code",
   "execution_count": 16,
   "id": "c5d89b54",
   "metadata": {},
   "outputs": [],
   "source": [
    "def get_sentiment(aspect_classes, text,qa_model, sent_model):\n",
    "    sentiment_dict = {k:0 for k in aspect_classes}\n",
    "    for aspect in aspect_classes:\n",
    "        alt_names = aspect_classes[aspect]\n",
    "        for name in alt_names:\n",
    "            question = f'how is {name}'\n",
    "            QA_input = {'question': question, 'context': text}\n",
    "            qa_result = qa_model(QA_input)\n",
    "            answer = qa_result['answer']\n",
    "\n",
    "        #sentiment model \n",
    "            sent_result = sent_model(answer)    \n",
    "            print(sent_result)\n",
    "            sentiment = sent_result[0]['label']\n",
    "\n",
    "            if sentiment == 'LABEL_0':\n",
    "                sentiment, score = 'Negative', -1\n",
    "            elif sentiment == 'LABEL_1':\n",
    "                sentiment, score = 'Neutral', 0\n",
    "            else:\n",
    "                sentiment, score = 'Positive', 1\n",
    "\n",
    "            value = sentiment_dict[aspect] + score\n",
    "            sentiment_dict[aspect] = value\n",
    "    return sentiment_dict\n",
    "\n",
    "def compute(text, aspects, qa_model, sent_model):\n",
    "\t#preprocessing\n",
    "\tpreprocess_text = preprocess(text)\n",
    "\t#get nouns\n",
    "\tnoun_list = get_noun(preprocess_text)\t\n",
    "\t#get alternative names of aspects\n",
    "\taspect_classes = get_similar_words(noun_list, aspects)\n",
    "\t#get sentiment\n",
    "\tsentiment_result = get_sentiment(aspect_classes, text, qa_model, sent_model)\n",
    "\treturn sentiment_result\n"
   ]
  },
  {
   "cell_type": "code",
   "execution_count": null,
   "id": "859789df",
   "metadata": {},
   "outputs": [],
   "source": []
  },
  {
   "cell_type": "code",
   "execution_count": 17,
   "id": "28777f97",
   "metadata": {},
   "outputs": [],
   "source": [
    "def aspect_sentiment(aspects, hashtag):\n",
    "\tif not aspects or aspects == list() :\n",
    "\t\treturn {'statusCode': 400, 'body': 'aspects not found in request'}\n",
    "\n",
    "\tif not hashtag or hashtag.strip() == '':\n",
    "\t\treturn {'statusCode': 400, 'body': 'hashtag not found in request'}\n",
    "\n",
    "\t#extracts 50 tweets regarding the hashtag from twitter\n",
    "\ttwitter_content = get_tweets(hashtag, consumer_key, consumer_secret, access_token, access_token_secret, tweet_count=50)\n",
    "\taspect_score = {asp : {'positive': 1, 'negative': -1} for asp in aspects}\n",
    "\t\n",
    "\t#compute scores for each tweet\n",
    "\tif twitter_content.to_dict():\n",
    "\t\tfor text in twitter_content['tweets']:\n",
    "\t\t\tsentiment_result = compute(text, aspects, qa_model, sent_model)\n",
    "\t\t\tfor result in sentiment_result:\n",
    "\t\t\t\tscore = sentiment_result[result]\n",
    "\t\t\t\tif score>0:\n",
    "\t\t\t\t\taspect_score[result]['positive'] = aspect_score[result]['positive'] + score\n",
    "\t\t\t\telif score<0:\n",
    "\t\t\t\t\taspect_score[result]['negative'] = aspect_score[result]['negative'] - score\n",
    "\t\t\t\telse:\n",
    "\t\t\t\t\tpass\n",
    "\telse:\n",
    "\t\treturn {'statusCode': 400, 'body': 'No twitter data scraped for this hashtag'}\n",
    "\n",
    "\n",
    "\n",
    "\tresult_list = [[k, 'positive', v['positive']] for k,v in aspect_score.items()]\n",
    "\tresult_list.extend([[k, 'negative', v['negative']] for k,v in aspect_score.items()])\n",
    "\n",
    "\t#plot the bar plot across all aspects\n",
    "\taspects_df = pd.DataFrame(result_list, columns= ['aspect', 'sentiment', 'score'])\n",
    "\tsns.barplot(x = 'aspect', y = 'score', hue='sentiment', data=aspects_df)\n",
    "\tplt.savefig('result.png')\n",
    "    \n",
    "\n",
    "\t#send base64 string of image as response\n",
    "\timg_result = None\n",
    "\twith open('result.png', 'rb') as f:\n",
    "\t\tim_b64 = base64.b64encode(f.read())\n",
    "\t\timg_result = str(im_b64)\n",
    "\tif img_result:\n",
    "\t\treturn {'statusCode': 200, 'body': json.dumps(img_result)}\n",
    "\telse:\n",
    "\t\treturn {'statusCode': 400, 'body': 'issue in saving result image'}"
   ]
  },
  {
   "cell_type": "code",
   "execution_count": 18,
   "id": "90ef8f0b",
   "metadata": {},
   "outputs": [],
   "source": [
    "aspects = ['screen', 'battery', 'design', 'camera']\n"
   ]
  },
  {
   "cell_type": "code",
   "execution_count": 19,
   "id": "7fa80bfb",
   "metadata": {},
   "outputs": [
    {
     "data": {
      "text/plain": [
       "{'statusCode': 200,\n",
       " 'body': '\"b\\'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\\'\"'}"
      ]
     },
     "execution_count": 19,
     "metadata": {},
     "output_type": "execute_result"
    },
    {
     "data": {
      "image/png": "[encoded data removed]",
      "text/plain": [
       "<Figure size 432x288 with 1 Axes>"
      ]
     },
     "metadata": {
      "needs_background": "light"
     },
     "output_type": "display_data"
    }
   ],
   "source": [
    "aspect_sentiment(aspects, hashtag)"
   ]
  },
  {
   "cell_type": "code",
   "execution_count": null,
   "id": "453d5d98",
   "metadata": {},
   "outputs": [],
   "source": []
  },
  {
   "cell_type": "code",
   "execution_count": 18,
   "id": "45b405a6",
   "metadata": {},
   "outputs": [],
   "source": [
    "# aspect_score = {asp : {'positive': 1, 'negative': -1} for asp in aspects}"
   ]
  },
  {
   "cell_type": "code",
   "execution_count": 19,
   "id": "96035ea9",
   "metadata": {},
   "outputs": [],
   "source": [
    "# if twitter_content.to_dict():\n",
    "# \t\tfor text in twitter_content['tweets']:\n",
    "# \t\t\tsentiment_result = compute(text, aspects, qa_model, sent_model)\n",
    "# \t\t\tfor result in sentiment_result:\n",
    "# \t\t\t\tscore = sentiment_result[result]\n",
    "# \t\t\t\tif score>0:\n",
    "# \t\t\t\t\taspect_score[result]['positive'] = aspect_score[result]['positive'] + score\n",
    "# \t\t\t\telif score<0:\n",
    "# \t\t\t\t\taspect_score[result]['negative'] = aspect_score[result]['negative'] - score\n",
    "# \t\t\t\telse:\n",
    "# \t\t\t\t\tpass\n"
   ]
  },
  {
   "cell_type": "code",
   "execution_count": 20,
   "id": "02a79413",
   "metadata": {},
   "outputs": [],
   "source": [
    "# result_list = [[k, 'positive', v['positive']] for k,v in aspect_score.items()]"
   ]
  },
  {
   "cell_type": "code",
   "execution_count": 21,
   "id": "3d484c24",
   "metadata": {},
   "outputs": [],
   "source": [
    "# result_list.extend([[k, 'negative', v['negative']] for k,v in aspect_score.items()])"
   ]
  },
  {
   "cell_type": "code",
   "execution_count": 22,
   "id": "3c19f54c",
   "metadata": {},
   "outputs": [],
   "source": [
    "# aspects_df = pd.DataFrame(result_list, columns= ['aspect', 'sentiment', 'score'])"
   ]
  },
  {
   "cell_type": "code",
   "execution_count": 23,
   "id": "1b92b172",
   "metadata": {},
   "outputs": [],
   "source": [
    "# sentiment_result"
   ]
  },
  {
   "cell_type": "code",
   "execution_count": 24,
   "id": "0b0bc075",
   "metadata": {},
   "outputs": [
    {
     "name": "stdout",
     "output_type": "stream",
     "text": [
      "Requirement already satisfied: monkeylearn in /Users/ankushsingal/opt/anaconda3/lib/python3.8/site-packages (3.6.0)\n",
      "Requirement already satisfied: requests>=2.8.1 in /Users/ankushsingal/opt/anaconda3/lib/python3.8/site-packages (from monkeylearn) (2.26.0)\n",
      "Requirement already satisfied: six>=1.10.0 in /Users/ankushsingal/opt/anaconda3/lib/python3.8/site-packages (from monkeylearn) (1.16.0)\n",
      "Requirement already satisfied: certifi>=2017.4.17 in /Users/ankushsingal/opt/anaconda3/lib/python3.8/site-packages (from requests>=2.8.1->monkeylearn) (2021.10.8)\n",
      "Requirement already satisfied: urllib3<1.27,>=1.21.1 in /Users/ankushsingal/opt/anaconda3/lib/python3.8/site-packages (from requests>=2.8.1->monkeylearn) (1.26.7)\n",
      "Requirement already satisfied: idna<4,>=2.5 in /Users/ankushsingal/opt/anaconda3/lib/python3.8/site-packages (from requests>=2.8.1->monkeylearn) (3.3)\n",
      "Requirement already satisfied: charset-normalizer~=2.0.0 in /Users/ankushsingal/opt/anaconda3/lib/python3.8/site-packages (from requests>=2.8.1->monkeylearn) (2.0.7)\n",
      "\u001b[33mWARNING: You are using pip version 21.2.4; however, version 22.1.2 is available.\n",
      "You should consider upgrading via the '/Users/ankushsingal/opt/anaconda3/bin/python -m pip install --upgrade pip' command.\u001b[0m\n",
      "Requirement already satisfied: textblob in /Users/ankushsingal/opt/anaconda3/lib/python3.8/site-packages (0.17.1)\n",
      "Requirement already satisfied: nltk>=3.1 in /Users/ankushsingal/opt/anaconda3/lib/python3.8/site-packages (from textblob) (3.6.5)\n",
      "Requirement already satisfied: regex>=2021.8.3 in /Users/ankushsingal/opt/anaconda3/lib/python3.8/site-packages (from nltk>=3.1->textblob) (2021.11.10)\n",
      "Requirement already satisfied: joblib in /Users/ankushsingal/opt/anaconda3/lib/python3.8/site-packages (from nltk>=3.1->textblob) (1.1.0)\n",
      "Requirement already satisfied: click in /Users/ankushsingal/opt/anaconda3/lib/python3.8/site-packages (from nltk>=3.1->textblob) (7.1.2)\n",
      "Requirement already satisfied: tqdm in /Users/ankushsingal/opt/anaconda3/lib/python3.8/site-packages (from nltk>=3.1->textblob) (4.62.3)\n",
      "\u001b[33mWARNING: You are using pip version 21.2.4; however, version 22.1.2 is available.\n",
      "You should consider upgrading via the '/Users/ankushsingal/opt/anaconda3/bin/python -m pip install --upgrade pip' command.\u001b[0m\n"
     ]
    }
   ],
   "source": [
    "!pip install monkeylearn\n",
    "!pip install textblob"
   ]
  },
  {
   "cell_type": "code",
   "execution_count": 436,
   "id": "197c7f39",
   "metadata": {},
   "outputs": [],
   "source": [
    "from monkeylearn import MonkeyLearn\n",
    "from textblob import TextBlob"
   ]
  },
  {
   "cell_type": "code",
   "execution_count": 437,
   "id": "a5446439",
   "metadata": {},
   "outputs": [],
   "source": [
    "# instantiate the client using your API key\n",
    "ml = MonkeyLearn('9ee10f9c870c25dcd0ffcc64b9ceb47fbe06b34b')\n",
    "\n",
    "# opinion unit extractor\n",
    "model_id = 'ex_N4aFcea3'"
   ]
  },
  {
   "cell_type": "code",
   "execution_count": 438,
   "id": "1bfe5e15",
   "metadata": {},
   "outputs": [],
   "source": [
    "def preprocess2(text):\n",
    "    #to lowercase\n",
    "    text = str(text).lower()\n",
    "    #remove urls\n",
    "    urls = extractor.find_urls(text)\n",
    "    for url in urls:\n",
    "        text = text.replace(url, '')\n",
    "    #remove new lines\n",
    "    text = text.replace('\\\\n',' ')\n",
    "    #remove none meaningful    \n",
    "    text = re.sub(r'\\\\x[0-9a-f]{2}', '',text)\n",
    "    #removes retweets & cc\n",
    "    text = text.replace(r'rt', '')\n",
    "    #remove emails\n",
    "    text = re.sub(r'\\S*@\\S*\\s?',' ',text)\n",
    "    #remove mentions\n",
    "    text = re.sub(r'@\\S+', ' ', text)\n",
    "    #contractions\n",
    "    text = contractions.fix(text)\n",
    "    #remove hashtags\n",
    "    text = re.sub(r'@\\S+', ' ', text)\n",
    "    #remove emojis\n",
    "    text = re.sub(r'[^\\x00-\\x7f]+', ' ', text)\n",
    "\n",
    "    #remove all punct\n",
    "    text = re.sub('[^A-z0-9]', ' ', text)\n",
    "    #remove extras whitespaces\n",
    "    text = re.sub(' +', ' ', text)\n",
    "    return text"
   ]
  },
  {
   "cell_type": "code",
   "execution_count": 419,
   "id": "bb49fff4",
   "metadata": {},
   "outputs": [],
   "source": [
    "import numpy as np"
   ]
  },
  {
   "cell_type": "code",
   "execution_count": 441,
   "id": "8c80aafb",
   "metadata": {},
   "outputs": [],
   "source": [
    "twitter_content2 = get_tweets(hashtag, consumer_key, consumer_secret, access_token, access_token_secret, tweet_count=50)"
   ]
  },
  {
   "cell_type": "code",
   "execution_count": 442,
   "id": "79425936",
   "metadata": {},
   "outputs": [],
   "source": [
    "twitter_content2['tweets'] = twitter_content2['tweets'].apply(preprocess2)"
   ]
  },
  {
   "cell_type": "code",
   "execution_count": 443,
   "id": "0bacc447",
   "metadata": {},
   "outputs": [],
   "source": [
    "twitter_content2.dropna(how=\"any\", inplace=True)\n"
   ]
  },
  {
   "cell_type": "code",
   "execution_count": 444,
   "id": "f66145da",
   "metadata": {},
   "outputs": [],
   "source": [
    "# twitter_content2.drop([112,166], axis=0,inplace=True)"
   ]
  },
  {
   "cell_type": "code",
   "execution_count": 447,
   "id": "d86df1ea",
   "metadata": {},
   "outputs": [
    {
     "data": {
      "text/html": [
       "<div>\n",
       "<style scoped>\n",
       "    .dataframe tbody tr th:only-of-type {\n",
       "        vertical-align: middle;\n",
       "    }\n",
       "\n",
       "    .dataframe tbody tr th {\n",
       "        vertical-align: top;\n",
       "    }\n",
       "\n",
       "    .dataframe thead th {\n",
       "        text-align: right;\n",
       "    }\n",
       "</style>\n",
       "<table border=\"1\" class=\"dataframe\">\n",
       "  <thead>\n",
       "    <tr style=\"text-align: right;\">\n",
       "      <th></th>\n",
       "      <th>tweets</th>\n",
       "      <th>created_on</th>\n",
       "    </tr>\n",
       "  </thead>\n",
       "  <tbody>\n",
       "    <tr>\n",
       "      <th>0</th>\n",
       "      <td>b sky after rain sunset clouds shotononeplus oneplus oneplus7pro nfta nftfam nftgiveaway photo</td>\n",
       "      <td>2022-07-09 21:41:48+00:00</td>\n",
       "    </tr>\n",
       "    <tr>\n",
       "      <th>1</th>\n",
       "      <td>b sky after rain sunset clouds shotononeplus oneplus oneplus7pro nfta nftfam nftgiveaway photo</td>\n",
       "      <td>2022-07-09 13:54:35+00:00</td>\n",
       "    </tr>\n",
       "    <tr>\n",
       "      <th>2</th>\n",
       "      <td>b 2019 s oneplus 7 oneplus 7t oneplus 7 pro oneplus 7t pro series will soon receive oxygenos 12 stable update</td>\n",
       "      <td>2022-07-09 10:00:14+00:00</td>\n",
       "    </tr>\n",
       "    <tr>\n",
       "      <th>3</th>\n",
       "      <td>notingphone1 coming soon i am oneplus7pro user</td>\n",
       "      <td>2022-07-08 21:31:57+00:00</td>\n",
       "    </tr>\n",
       "    <tr>\n",
       "      <th>4</th>\n",
       "      <td>i was using oneplus7pro and after having system update it got slow and it took more time to charge s</td>\n",
       "      <td>2022-07-08 19:17:31+00:00</td>\n",
       "    </tr>\n",
       "    <tr>\n",
       "      <th>5</th>\n",
       "      <td>oneplus7pro now it is coz of updates</td>\n",
       "      <td>2022-07-07 16:59:28+00:00</td>\n",
       "    </tr>\n",
       "    <tr>\n",
       "      <th>6</th>\n",
       "      <td>b oneplus 7 pro 7t and 7t pro can try paranoid android sapphire beta 2 news oneplus7pro oneplus7t oneplus7tpro</td>\n",
       "      <td>2022-07-05 13:05:56+00:00</td>\n",
       "    </tr>\n",
       "    <tr>\n",
       "      <th>7</th>\n",
       "      <td>b wallpapers dotted everywhere in wales oneplus9pro oneplus7pro</td>\n",
       "      <td>2022-07-03 17:05:56+00:00</td>\n",
       "    </tr>\n",
       "    <tr>\n",
       "      <th>8</th>\n",
       "      <td>b wallpapers dotted everywhere in wales oneplus9pro oneplus7pro</td>\n",
       "      <td>2022-07-03 15:34:31+00:00</td>\n",
       "    </tr>\n",
       "    <tr>\n",
       "      <th>9</th>\n",
       "      <td>wallpapers dotted everywhere in wales oneplus9pro oneplus7pro</td>\n",
       "      <td>2022-07-03 14:53:43+00:00</td>\n",
       "    </tr>\n",
       "    <tr>\n",
       "      <th>10</th>\n",
       "      <td>b oneplus 8 pro will have 120hz display \\ breakingnews oneplus oneplus8 oneplus7pro oneplus7t of</td>\n",
       "      <td>2022-07-03 13:57:00+00:00</td>\n",
       "    </tr>\n",
       "    <tr>\n",
       "      <th>11</th>\n",
       "      <td>b oppo reno 10x zoom review price features \\ oppo opporeno oppof11pro opporeno10xzoom android</td>\n",
       "      <td>2022-07-03 13:56:07+00:00</td>\n",
       "    </tr>\n",
       "    <tr>\n",
       "      <th>12</th>\n",
       "      <td>b oneplus 7 amp oneplus 7 pro oxygenos 12 with android 12 open beta 1 released on 1st july 2022 read more</td>\n",
       "      <td>2022-07-01 15:59:39+00:00</td>\n",
       "    </tr>\n",
       "    <tr>\n",
       "      <th>13</th>\n",
       "      <td>b paranoid android sapphire beta 2 is now available for the oneplus 7 pro download it on our website \\</td>\n",
       "      <td>2022-07-01 14:40:29+00:00</td>\n",
       "    </tr>\n",
       "    <tr>\n",
       "      <th>14</th>\n",
       "      <td>b paranoid android sapphire beta 2 is now available for the oneplus 7 pro download it on our website \\</td>\n",
       "      <td>2022-07-01 14:29:38+00:00</td>\n",
       "    </tr>\n",
       "    <tr>\n",
       "      <th>15</th>\n",
       "      <td>b paranoid android sapphire beta 2 is now available for the oneplus 7 pro download it on our website</td>\n",
       "      <td>2022-07-01 14:28:02+00:00</td>\n",
       "    </tr>\n",
       "    <tr>\n",
       "      <th>16</th>\n",
       "      <td>b oneplus launched the nord 2t mid range phone in india oneplus oneplus5 oneplus6 oneplus6t oneplus7</td>\n",
       "      <td>2022-07-01 12:50:39+00:00</td>\n",
       "    </tr>\n",
       "    <tr>\n",
       "      <th>17</th>\n",
       "      <td>b oneplus releases android 12 beta for its oneplus 7 oneplus 7 pro oneplus 7t and oneplus 7t pro models</td>\n",
       "      <td>2022-07-01 09:37:22+00:00</td>\n",
       "    </tr>\n",
       "    <tr>\n",
       "      <th>18</th>\n",
       "      <td>b oneplus 7 series picks up oxygenos 12 open beta 1 update \\ oneplus7 oneplus7pro</td>\n",
       "      <td>2022-07-01 09:29:09+00:00</td>\n",
       "    </tr>\n",
       "    <tr>\n",
       "      <th>19</th>\n",
       "      <td>b oneplus 7 7t pae l update oxygenos 12 beta con android 12 android12 oneplus7 oneplus7pro oneplus7t</td>\n",
       "      <td>2022-07-01 09:15:57+00:00</td>\n",
       "    </tr>\n",
       "    <tr>\n",
       "      <th>20</th>\n",
       "      <td>b oxygenos 12 open beta 1 finally released for the oneplus 7 7 pro 7t 7t pro news oxygenos12 oneplus7 oneplus7t</td>\n",
       "      <td>2022-07-01 04:40:26+00:00</td>\n",
       "    </tr>\n",
       "  </tbody>\n",
       "</table>\n",
       "</div>"
      ],
      "text/plain": [
       "                                                                                                              tweets  \\\n",
       "0                    b sky after rain sunset clouds shotononeplus oneplus oneplus7pro nfta nftfam nftgiveaway photo    \n",
       "1                    b sky after rain sunset clouds shotononeplus oneplus oneplus7pro nfta nftfam nftgiveaway photo    \n",
       "2     b 2019 s oneplus 7 oneplus 7t oneplus 7 pro oneplus 7t pro series will soon receive oxygenos 12 stable update    \n",
       "3                                                                    notingphone1 coming soon i am oneplus7pro user    \n",
       "4              i was using oneplus7pro and after having system update it got slow and it took more time to charge s    \n",
       "5                                                                              oneplus7pro now it is coz of updates    \n",
       "6    b oneplus 7 pro 7t and 7t pro can try paranoid android sapphire beta 2 news oneplus7pro oneplus7t oneplus7tpro    \n",
       "7                                                   b wallpapers dotted everywhere in wales oneplus9pro oneplus7pro    \n",
       "8                                                   b wallpapers dotted everywhere in wales oneplus9pro oneplus7pro    \n",
       "9                                                     wallpapers dotted everywhere in wales oneplus9pro oneplus7pro    \n",
       "10                  b oneplus 8 pro will have 120hz display \\ breakingnews oneplus oneplus8 oneplus7pro oneplus7t of   \n",
       "11                    b oppo reno 10x zoom review price features \\ oppo opporeno oppof11pro opporeno10xzoom android    \n",
       "12        b oneplus 7 amp oneplus 7 pro oxygenos 12 with android 12 open beta 1 released on 1st july 2022 read more    \n",
       "13           b paranoid android sapphire beta 2 is now available for the oneplus 7 pro download it on our website \\    \n",
       "14           b paranoid android sapphire beta 2 is now available for the oneplus 7 pro download it on our website \\    \n",
       "15             b paranoid android sapphire beta 2 is now available for the oneplus 7 pro download it on our website    \n",
       "16             b oneplus launched the nord 2t mid range phone in india oneplus oneplus5 oneplus6 oneplus6t oneplus7    \n",
       "17          b oneplus releases android 12 beta for its oneplus 7 oneplus 7 pro oneplus 7t and oneplus 7t pro models    \n",
       "18                                b oneplus 7 series picks up oxygenos 12 open beta 1 update \\ oneplus7 oneplus7pro    \n",
       "19             b oneplus 7 7t pae l update oxygenos 12 beta con android 12 android12 oneplus7 oneplus7pro oneplus7t    \n",
       "20  b oxygenos 12 open beta 1 finally released for the oneplus 7 7 pro 7t 7t pro news oxygenos12 oneplus7 oneplus7t    \n",
       "\n",
       "                  created_on  \n",
       "0  2022-07-09 21:41:48+00:00  \n",
       "1  2022-07-09 13:54:35+00:00  \n",
       "2  2022-07-09 10:00:14+00:00  \n",
       "3  2022-07-08 21:31:57+00:00  \n",
       "4  2022-07-08 19:17:31+00:00  \n",
       "5  2022-07-07 16:59:28+00:00  \n",
       "6  2022-07-05 13:05:56+00:00  \n",
       "7  2022-07-03 17:05:56+00:00  \n",
       "8  2022-07-03 15:34:31+00:00  \n",
       "9  2022-07-03 14:53:43+00:00  \n",
       "10 2022-07-03 13:57:00+00:00  \n",
       "11 2022-07-03 13:56:07+00:00  \n",
       "12 2022-07-01 15:59:39+00:00  \n",
       "13 2022-07-01 14:40:29+00:00  \n",
       "14 2022-07-01 14:29:38+00:00  \n",
       "15 2022-07-01 14:28:02+00:00  \n",
       "16 2022-07-01 12:50:39+00:00  \n",
       "17 2022-07-01 09:37:22+00:00  \n",
       "18 2022-07-01 09:29:09+00:00  \n",
       "19 2022-07-01 09:15:57+00:00  \n",
       "20 2022-07-01 04:40:26+00:00  "
      ]
     },
     "execution_count": 447,
     "metadata": {},
     "output_type": "execute_result"
    }
   ],
   "source": [
    "twitter_content2"
   ]
  },
  {
   "cell_type": "code",
   "execution_count": 448,
   "id": "25a3ff5b",
   "metadata": {},
   "outputs": [],
   "source": [
    "# def opinion_parser(text):\n",
    "#     \"\"\"\n",
    "#       Extract the individual opinion unit (or phrase) within the text\n",
    "#       that contains the aspect term. \n",
    "#     \"\"\"\n",
    "#     result = ml.extractors.extract(model_id, [text])\n",
    "#     time.sleep(1)\n",
    "  \n",
    "#     extractions = result.body[0]['extractions']\n",
    "\n",
    "#     num__opinion_units = len(extractions)\n",
    "\n",
    "#     for i in range(num__opinion_units):\n",
    "#         opinion_unit = \"\".join([extractions[i]['extracted_text']])\n",
    "    \n",
    "#         if re.search(\"colors?\", opinion_unit):\n",
    "#              return opinion_unit\n",
    "  \n",
    "#     return \"\""
   ]
  },
  {
   "cell_type": "code",
   "execution_count": 449,
   "id": "b96df9c0",
   "metadata": {},
   "outputs": [],
   "source": [
    "#twitter_content2[\"\"] = twitter_content2[\"tweets\"].progress_apply(opinion_parser)"
   ]
  },
  {
   "cell_type": "code",
   "execution_count": 450,
   "id": "1d4b384b",
   "metadata": {},
   "outputs": [
    {
     "data": {
      "text/plain": [
       "['b sky after rain sunset clouds shotononeplus oneplus oneplus7pro nfta nftfam nftgiveaway photo',\n",
       " 'b sky after rain sunset clouds shotononeplus oneplus oneplus7pro nfta nftfam nftgiveaway photo',\n",
       " 'b 2019 s oneplus 7 oneplus 7t oneplus 7 pro oneplus 7t pro series will soon receive oxygenos 12 stable update',\n",
       " 'notingphone1 coming soon i am oneplus7pro user',\n",
       " 'i was using oneplus7pro and after having system update it got slow and it took more time to charge s',\n",
       " 'oneplus7pro now it is coz of updates',\n",
       " 'b oneplus 7 pro 7t and 7t pro can try paranoid android sapphire beta 2 news oneplus7pro oneplus7t oneplus7tpro',\n",
       " 'b wallpapers dotted everywhere in wales oneplus9pro oneplus7pro',\n",
       " 'b wallpapers dotted everywhere in wales oneplus9pro oneplus7pro',\n",
       " 'wallpapers dotted everywhere in wales oneplus9pro oneplus7pro',\n",
       " 'b oneplus 8 pro will have 120hz display \\\\ breakingnews oneplus oneplus8 oneplus7pro oneplus7t of',\n",
       " 'b oppo reno 10x zoom review price features \\\\ oppo opporeno oppof11pro opporeno10xzoom android',\n",
       " 'b oneplus 7 amp oneplus 7 pro oxygenos 12 with android 12 open beta 1 released on 1st july 2022 read more',\n",
       " 'b paranoid android sapphire beta 2 is now available for the oneplus 7 pro download it on our website \\\\',\n",
       " 'b paranoid android sapphire beta 2 is now available for the oneplus 7 pro download it on our website \\\\',\n",
       " 'b paranoid android sapphire beta 2 is now available for the oneplus 7 pro download it on our website',\n",
       " 'b oneplus launched the nord 2t mid range phone in india oneplus oneplus5 oneplus6 oneplus6t oneplus7',\n",
       " 'b oneplus releases android 12 beta for its oneplus 7 oneplus 7 pro oneplus 7t and oneplus 7t pro models',\n",
       " 'b oneplus 7 series picks up oxygenos 12 open beta 1 update \\\\ oneplus7 oneplus7pro',\n",
       " 'b oneplus 7 7t pae l update oxygenos 12 beta con android 12 android12 oneplus7 oneplus7pro oneplus7t',\n",
       " 'b oxygenos 12 open beta 1 finally released for the oneplus 7 7 pro 7t 7t pro news oxygenos12 oneplus7 oneplus7t']"
      ]
     },
     "execution_count": 450,
     "metadata": {},
     "output_type": "execute_result"
    }
   ],
   "source": [
    "data = [text for text in twitter_content2[\"tweets\"]]\n",
    "result = ml.extractors.extract(model_id, data)\n",
    "dataDict = len(result.body)\n",
    "#extractions = result.body[0]['extractions']\n",
    "num1 = [\"\".join([result.body[i]['extractions'][0]['extracted_text']]) for i in range(dataDict)]\n",
    "# # for item in dataDict[0]['extractions']['extracted_text']:\n",
    "# #   print(item['parsed_value'])\n",
    "# # for i in range(dataDict):\n",
    "# #         opinion_unit = \"\".join([extractions[i]['extracted_text']])\n",
    "# # return opinion_unit\n",
    "num1\n",
    "#extractions"
   ]
  },
  {
   "cell_type": "code",
   "execution_count": 451,
   "id": "8e635608",
   "metadata": {},
   "outputs": [
    {
     "data": {
      "text/html": [
       "<div>\n",
       "<style scoped>\n",
       "    .dataframe tbody tr th:only-of-type {\n",
       "        vertical-align: middle;\n",
       "    }\n",
       "\n",
       "    .dataframe tbody tr th {\n",
       "        vertical-align: top;\n",
       "    }\n",
       "\n",
       "    .dataframe thead th {\n",
       "        text-align: right;\n",
       "    }\n",
       "</style>\n",
       "<table border=\"1\" class=\"dataframe\">\n",
       "  <thead>\n",
       "    <tr style=\"text-align: right;\">\n",
       "      <th></th>\n",
       "      <th>tweets</th>\n",
       "      <th>created_on</th>\n",
       "      <th>Opinion</th>\n",
       "    </tr>\n",
       "  </thead>\n",
       "  <tbody>\n",
       "    <tr>\n",
       "      <th>0</th>\n",
       "      <td>b sky after rain sunset clouds shotononeplus oneplus oneplus7pro nfta nftfam nftgiveaway photo</td>\n",
       "      <td>2022-07-09 21:41:48+00:00</td>\n",
       "      <td>b sky after rain sunset clouds shotononeplus oneplus oneplus7pro nfta nftfam nftgiveaway photo</td>\n",
       "    </tr>\n",
       "    <tr>\n",
       "      <th>1</th>\n",
       "      <td>b sky after rain sunset clouds shotononeplus oneplus oneplus7pro nfta nftfam nftgiveaway photo</td>\n",
       "      <td>2022-07-09 13:54:35+00:00</td>\n",
       "      <td>b sky after rain sunset clouds shotononeplus oneplus oneplus7pro nfta nftfam nftgiveaway photo</td>\n",
       "    </tr>\n",
       "    <tr>\n",
       "      <th>2</th>\n",
       "      <td>b 2019 s oneplus 7 oneplus 7t oneplus 7 pro oneplus 7t pro series will soon receive oxygenos 12 stable update</td>\n",
       "      <td>2022-07-09 10:00:14+00:00</td>\n",
       "      <td>b 2019 s oneplus 7 oneplus 7t oneplus 7 pro oneplus 7t pro series will soon receive oxygenos 12 stable update</td>\n",
       "    </tr>\n",
       "    <tr>\n",
       "      <th>3</th>\n",
       "      <td>notingphone1 coming soon i am oneplus7pro user</td>\n",
       "      <td>2022-07-08 21:31:57+00:00</td>\n",
       "      <td>notingphone1 coming soon i am oneplus7pro user</td>\n",
       "    </tr>\n",
       "    <tr>\n",
       "      <th>4</th>\n",
       "      <td>i was using oneplus7pro and after having system update it got slow and it took more time to charge s</td>\n",
       "      <td>2022-07-08 19:17:31+00:00</td>\n",
       "      <td>i was using oneplus7pro and after having system update it got slow and it took more time to charge s</td>\n",
       "    </tr>\n",
       "  </tbody>\n",
       "</table>\n",
       "</div>"
      ],
      "text/plain": [
       "                                                                                                           tweets  \\\n",
       "0                 b sky after rain sunset clouds shotononeplus oneplus oneplus7pro nfta nftfam nftgiveaway photo    \n",
       "1                 b sky after rain sunset clouds shotononeplus oneplus oneplus7pro nfta nftfam nftgiveaway photo    \n",
       "2  b 2019 s oneplus 7 oneplus 7t oneplus 7 pro oneplus 7t pro series will soon receive oxygenos 12 stable update    \n",
       "3                                                                 notingphone1 coming soon i am oneplus7pro user    \n",
       "4           i was using oneplus7pro and after having system update it got slow and it took more time to charge s    \n",
       "\n",
       "                 created_on  \\\n",
       "0 2022-07-09 21:41:48+00:00   \n",
       "1 2022-07-09 13:54:35+00:00   \n",
       "2 2022-07-09 10:00:14+00:00   \n",
       "3 2022-07-08 21:31:57+00:00   \n",
       "4 2022-07-08 19:17:31+00:00   \n",
       "\n",
       "                                                                                                         Opinion  \n",
       "0                 b sky after rain sunset clouds shotononeplus oneplus oneplus7pro nfta nftfam nftgiveaway photo  \n",
       "1                 b sky after rain sunset clouds shotononeplus oneplus oneplus7pro nfta nftfam nftgiveaway photo  \n",
       "2  b 2019 s oneplus 7 oneplus 7t oneplus 7 pro oneplus 7t pro series will soon receive oxygenos 12 stable update  \n",
       "3                                                                 notingphone1 coming soon i am oneplus7pro user  \n",
       "4           i was using oneplus7pro and after having system update it got slow and it took more time to charge s  "
      ]
     },
     "execution_count": 451,
     "metadata": {},
     "output_type": "execute_result"
    }
   ],
   "source": [
    "twitter_content2[\"Opinion\"] = num1\n",
    "      \n",
    "twitter_content2.head()"
   ]
  },
  {
   "cell_type": "markdown",
   "id": "0083fb1c",
   "metadata": {},
   "source": [
    "# Predict Polarity"
   ]
  },
  {
   "cell_type": "code",
   "execution_count": 454,
   "id": "cbb1d021",
   "metadata": {},
   "outputs": [],
   "source": [
    "def polarity(text):\n",
    "    \"\"\"\n",
    "  Predict the polarity of the text using TextBlob.\n",
    "  Results range from negative to positive on a scale of [-1, +1].\n",
    "    \"\"\"\n",
    "    testimonial = TextBlob(text)\n",
    "    return round(testimonial.sentiment.polarity, 2)"
   ]
  },
  {
   "cell_type": "code",
   "execution_count": 455,
   "id": "48ce51f4",
   "metadata": {},
   "outputs": [
    {
     "data": {
      "application/vnd.jupyter.widget-view+json": {
       "model_id": "4af4eb213aeb4606b25084598f7227fa",
       "version_major": 2,
       "version_minor": 0
      },
      "text/plain": [
       "  0%|          | 0/21 [00:00<?, ?it/s]"
      ]
     },
     "metadata": {},
     "output_type": "display_data"
    }
   ],
   "source": [
    "twitter_content2[\"Polarity\"] = twitter_content2[\"Opinion\"].progress_apply(polarity)"
   ]
  },
  {
   "cell_type": "markdown",
   "id": "7ba1e063",
   "metadata": {},
   "source": [
    "# Identify Descriptors"
   ]
  },
  {
   "cell_type": "code",
   "execution_count": 456,
   "id": "870bdabd",
   "metadata": {},
   "outputs": [],
   "source": [
    "def dependency_matching(text):\n",
    "    \"\"\"\n",
    "  Identify and extract word(s) that are describing\n",
    "  the aspect term.\n",
    "    \"\"\"\n",
    "    doc = nlp(text)\n",
    "  \n",
    "    tags = ['JJ', 'JJR', 'JJS','NN','CC']\n",
    "    dependents = ['acomp', 'advmod']\n",
    "\n",
    "    extraction = []\n",
    "    for i, token in enumerate(doc):\n",
    "      \n",
    "      # location of color in sequence\n",
    "        if re.search(\"color\", token.text):\n",
    "            color_pos = i\n",
    "      \n",
    "        if ((token.dep_ in dependents) or (token.tag_ in tags)) and re.search(\"color\", token.head.text):\n",
    "            extraction.append(token.text)\n",
    "\n",
    "        if token.dep_ == 'acomp':\n",
    "            extraction.append(token.text)\n",
    "          \n",
    "            children = [child for child in token.children]\n",
    "            if len(children) > 0 and str(children[0]).isalpha():\n",
    "                extraction.insert(0, str(children[0]))\n",
    "          \n",
    "        for t in range(4):\n",
    "                try:\n",
    "                    if doc[i-t].dep_ == 'neg':\n",
    "                        negation = doc[i-t].text\n",
    "                        extraction.insert(0, negation)\n",
    "                except:\n",
    "                    continue\n",
    "      \n",
    "      # look for adjectives near the aspect if no matches were found yet\n",
    "        if len(extraction) == 0 and i == len(doc)-1:\n",
    "            for t in range(-6,6):\n",
    "                try:\n",
    "                    if doc[color_pos+t].tag_ in tags:\n",
    "                        if doc[color_pos+t].text in extraction:\n",
    "                            continue\n",
    "                            extraction.append(doc[color_pos+t].text)\n",
    "                      \n",
    "                            children = [child for child in doc[color_pos+t].children]\n",
    "                        if len(children) > 0 and str(children[0]).isalpha():\n",
    "                             extraction.insert(0, str(children[0]))\n",
    "                except:\n",
    "                    continue\n",
    "\n",
    "    return \" \".join(extraction)"
   ]
  },
  {
   "cell_type": "code",
   "execution_count": 457,
   "id": "832e29e0",
   "metadata": {},
   "outputs": [
    {
     "data": {
      "application/vnd.jupyter.widget-view+json": {
       "model_id": "a469848169514394b178436482142493",
       "version_major": 2,
       "version_minor": 0
      },
      "text/plain": [
       "  0%|          | 0/21 [00:00<?, ?it/s]"
      ]
     },
     "metadata": {},
     "output_type": "display_data"
    }
   ],
   "source": [
    "twitter_content2['Descriptors'] = twitter_content2['Opinion'].progress_apply(dependency_matching)\n"
   ]
  },
  {
   "cell_type": "code",
   "execution_count": 458,
   "id": "b6b8adc0",
   "metadata": {},
   "outputs": [
    {
     "data": {
      "application/vnd.jupyter.widget-view+json": {
       "model_id": "9163b24d594e4f8797cc31e2e92bd574",
       "version_major": 2,
       "version_minor": 0
      },
      "text/plain": [
       "  0%|          | 0/21 [00:00<?, ?it/s]"
      ]
     },
     "metadata": {},
     "output_type": "display_data"
    }
   ],
   "source": [
    "twitter_content2['Descriptors1'] = twitter_content2['Opinion'].progress_apply(get_noun)"
   ]
  },
  {
   "cell_type": "code",
   "execution_count": 459,
   "id": "fcab2053",
   "metadata": {},
   "outputs": [
    {
     "data": {
      "text/html": [
       "<div>\n",
       "<style scoped>\n",
       "    .dataframe tbody tr th:only-of-type {\n",
       "        vertical-align: middle;\n",
       "    }\n",
       "\n",
       "    .dataframe tbody tr th {\n",
       "        vertical-align: top;\n",
       "    }\n",
       "\n",
       "    .dataframe thead th {\n",
       "        text-align: right;\n",
       "    }\n",
       "</style>\n",
       "<table border=\"1\" class=\"dataframe\">\n",
       "  <thead>\n",
       "    <tr style=\"text-align: right;\">\n",
       "      <th></th>\n",
       "      <th>tweets</th>\n",
       "      <th>created_on</th>\n",
       "      <th>Opinion</th>\n",
       "      <th>Polarity</th>\n",
       "      <th>Descriptors</th>\n",
       "      <th>Descriptors1</th>\n",
       "    </tr>\n",
       "  </thead>\n",
       "  <tbody>\n",
       "    <tr>\n",
       "      <th>0</th>\n",
       "      <td>b sky after rain sunset clouds shotononeplus oneplus oneplus7pro nfta nftfam nftgiveaway photo</td>\n",
       "      <td>2022-07-09 21:41:48+00:00</td>\n",
       "      <td>b sky after rain sunset clouds shotononeplus oneplus oneplus7pro nfta nftfam nftgiveaway photo</td>\n",
       "      <td>0.00</td>\n",
       "      <td></td>\n",
       "      <td>{clouds, sunset, photo, b, sky, rain}</td>\n",
       "    </tr>\n",
       "    <tr>\n",
       "      <th>1</th>\n",
       "      <td>b sky after rain sunset clouds shotononeplus oneplus oneplus7pro nfta nftfam nftgiveaway photo</td>\n",
       "      <td>2022-07-09 13:54:35+00:00</td>\n",
       "      <td>b sky after rain sunset clouds shotononeplus oneplus oneplus7pro nfta nftfam nftgiveaway photo</td>\n",
       "      <td>0.00</td>\n",
       "      <td></td>\n",
       "      <td>{clouds, sunset, photo, b, sky, rain}</td>\n",
       "    </tr>\n",
       "    <tr>\n",
       "      <th>2</th>\n",
       "      <td>b 2019 s oneplus 7 oneplus 7t oneplus 7 pro oneplus 7t pro series will soon receive oxygenos 12 stable update</td>\n",
       "      <td>2022-07-09 10:00:14+00:00</td>\n",
       "      <td>b 2019 s oneplus 7 oneplus 7t oneplus 7 pro oneplus 7t pro series will soon receive oxygenos 12 stable update</td>\n",
       "      <td>0.00</td>\n",
       "      <td></td>\n",
       "      <td>{update, oxygenos, b, series, s}</td>\n",
       "    </tr>\n",
       "    <tr>\n",
       "      <th>3</th>\n",
       "      <td>notingphone1 coming soon i am oneplus7pro user</td>\n",
       "      <td>2022-07-08 21:31:57+00:00</td>\n",
       "      <td>notingphone1 coming soon i am oneplus7pro user</td>\n",
       "      <td>0.00</td>\n",
       "      <td></td>\n",
       "      <td>{user}</td>\n",
       "    </tr>\n",
       "    <tr>\n",
       "      <th>4</th>\n",
       "      <td>i was using oneplus7pro and after having system update it got slow and it took more time to charge s</td>\n",
       "      <td>2022-07-08 19:17:31+00:00</td>\n",
       "      <td>i was using oneplus7pro and after having system update it got slow and it took more time to charge s</td>\n",
       "      <td>0.10</td>\n",
       "      <td>slow</td>\n",
       "      <td>{system, time, s, i}</td>\n",
       "    </tr>\n",
       "    <tr>\n",
       "      <th>5</th>\n",
       "      <td>oneplus7pro now it is coz of updates</td>\n",
       "      <td>2022-07-07 16:59:28+00:00</td>\n",
       "      <td>oneplus7pro now it is coz of updates</td>\n",
       "      <td>0.00</td>\n",
       "      <td></td>\n",
       "      <td>{coz, updates}</td>\n",
       "    </tr>\n",
       "    <tr>\n",
       "      <th>6</th>\n",
       "      <td>b oneplus 7 pro 7t and 7t pro can try paranoid android sapphire beta 2 news oneplus7pro oneplus7t oneplus7tpro</td>\n",
       "      <td>2022-07-05 13:05:56+00:00</td>\n",
       "      <td>b oneplus 7 pro 7t and 7t pro can try paranoid android sapphire beta 2 news oneplus7pro oneplus7t oneplus7tpro</td>\n",
       "      <td>0.00</td>\n",
       "      <td></td>\n",
       "      <td>{pro, b, sapphire, news, beta}</td>\n",
       "    </tr>\n",
       "    <tr>\n",
       "      <th>7</th>\n",
       "      <td>b wallpapers dotted everywhere in wales oneplus9pro oneplus7pro</td>\n",
       "      <td>2022-07-03 17:05:56+00:00</td>\n",
       "      <td>b wallpapers dotted everywhere in wales oneplus9pro oneplus7pro</td>\n",
       "      <td>0.00</td>\n",
       "      <td></td>\n",
       "      <td>{b, wallpapers, wales}</td>\n",
       "    </tr>\n",
       "    <tr>\n",
       "      <th>8</th>\n",
       "      <td>b wallpapers dotted everywhere in wales oneplus9pro oneplus7pro</td>\n",
       "      <td>2022-07-03 15:34:31+00:00</td>\n",
       "      <td>b wallpapers dotted everywhere in wales oneplus9pro oneplus7pro</td>\n",
       "      <td>0.00</td>\n",
       "      <td></td>\n",
       "      <td>{b, wallpapers, wales}</td>\n",
       "    </tr>\n",
       "    <tr>\n",
       "      <th>9</th>\n",
       "      <td>wallpapers dotted everywhere in wales oneplus9pro oneplus7pro</td>\n",
       "      <td>2022-07-03 14:53:43+00:00</td>\n",
       "      <td>wallpapers dotted everywhere in wales oneplus9pro oneplus7pro</td>\n",
       "      <td>0.00</td>\n",
       "      <td></td>\n",
       "      <td>{wallpapers, wales}</td>\n",
       "    </tr>\n",
       "    <tr>\n",
       "      <th>10</th>\n",
       "      <td>b oneplus 8 pro will have 120hz display \\ breakingnews oneplus oneplus8 oneplus7pro oneplus7t of</td>\n",
       "      <td>2022-07-03 13:57:00+00:00</td>\n",
       "      <td>b oneplus 8 pro will have 120hz display \\ breakingnews oneplus oneplus8 oneplus7pro oneplus7t of</td>\n",
       "      <td>0.00</td>\n",
       "      <td></td>\n",
       "      <td>{pro, oneplus7t, b, \\, display}</td>\n",
       "    </tr>\n",
       "    <tr>\n",
       "      <th>11</th>\n",
       "      <td>b oppo reno 10x zoom review price features \\ oppo opporeno oppof11pro opporeno10xzoom android</td>\n",
       "      <td>2022-07-03 13:56:07+00:00</td>\n",
       "      <td>b oppo reno 10x zoom review price features \\ oppo opporeno oppof11pro opporeno10xzoom android</td>\n",
       "      <td>0.00</td>\n",
       "      <td></td>\n",
       "      <td>{oppo, opporeno10xzoom, reno, b, android, price, zoom, review, features}</td>\n",
       "    </tr>\n",
       "    <tr>\n",
       "      <th>12</th>\n",
       "      <td>b oneplus 7 amp oneplus 7 pro oxygenos 12 with android 12 open beta 1 released on 1st july 2022 read more</td>\n",
       "      <td>2022-07-01 15:59:39+00:00</td>\n",
       "      <td>b oneplus 7 amp oneplus 7 pro oxygenos 12 with android 12 open beta 1 released on 1st july 2022 read more</td>\n",
       "      <td>0.25</td>\n",
       "      <td></td>\n",
       "      <td>{b, july, beta, read}</td>\n",
       "    </tr>\n",
       "    <tr>\n",
       "      <th>13</th>\n",
       "      <td>b paranoid android sapphire beta 2 is now available for the oneplus 7 pro download it on our website \\</td>\n",
       "      <td>2022-07-01 14:40:29+00:00</td>\n",
       "      <td>b paranoid android sapphire beta 2 is now available for the oneplus 7 pro download it on our website \\</td>\n",
       "      <td>0.40</td>\n",
       "      <td>for available</td>\n",
       "      <td>{website, b, sapphire, paranoid, android, \\, beta, download}</td>\n",
       "    </tr>\n",
       "    <tr>\n",
       "      <th>14</th>\n",
       "      <td>b paranoid android sapphire beta 2 is now available for the oneplus 7 pro download it on our website \\</td>\n",
       "      <td>2022-07-01 14:29:38+00:00</td>\n",
       "      <td>b paranoid android sapphire beta 2 is now available for the oneplus 7 pro download it on our website \\</td>\n",
       "      <td>0.40</td>\n",
       "      <td>for available</td>\n",
       "      <td>{website, b, sapphire, paranoid, android, \\, beta, download}</td>\n",
       "    </tr>\n",
       "    <tr>\n",
       "      <th>15</th>\n",
       "      <td>b paranoid android sapphire beta 2 is now available for the oneplus 7 pro download it on our website</td>\n",
       "      <td>2022-07-01 14:28:02+00:00</td>\n",
       "      <td>b paranoid android sapphire beta 2 is now available for the oneplus 7 pro download it on our website</td>\n",
       "      <td>0.40</td>\n",
       "      <td>for available</td>\n",
       "      <td>{website, b, sapphire, paranoid, android, beta, download}</td>\n",
       "    </tr>\n",
       "    <tr>\n",
       "      <th>16</th>\n",
       "      <td>b oneplus launched the nord 2t mid range phone in india oneplus oneplus5 oneplus6 oneplus6t oneplus7</td>\n",
       "      <td>2022-07-01 12:50:39+00:00</td>\n",
       "      <td>b oneplus launched the nord 2t mid range phone in india oneplus oneplus5 oneplus6 oneplus6t oneplus7</td>\n",
       "      <td>0.00</td>\n",
       "      <td></td>\n",
       "      <td>{oneplus7, range, oneplus5, b, phone, nord, oneplus6, oneplus6t, mid}</td>\n",
       "    </tr>\n",
       "    <tr>\n",
       "      <th>17</th>\n",
       "      <td>b oneplus releases android 12 beta for its oneplus 7 oneplus 7 pro oneplus 7t and oneplus 7t pro models</td>\n",
       "      <td>2022-07-01 09:37:22+00:00</td>\n",
       "      <td>b oneplus releases android 12 beta for its oneplus 7 oneplus 7 pro oneplus 7t and oneplus 7t pro models</td>\n",
       "      <td>0.00</td>\n",
       "      <td></td>\n",
       "      <td>{oneplus, b, models, beta}</td>\n",
       "    </tr>\n",
       "    <tr>\n",
       "      <th>18</th>\n",
       "      <td>b oneplus 7 series picks up oxygenos 12 open beta 1 update \\ oneplus7 oneplus7pro</td>\n",
       "      <td>2022-07-01 09:29:09+00:00</td>\n",
       "      <td>b oneplus 7 series picks up oxygenos 12 open beta 1 update \\ oneplus7 oneplus7pro</td>\n",
       "      <td>0.00</td>\n",
       "      <td></td>\n",
       "      <td>{b, series, beta, \\}</td>\n",
       "    </tr>\n",
       "    <tr>\n",
       "      <th>19</th>\n",
       "      <td>b oneplus 7 7t pae l update oxygenos 12 beta con android 12 android12 oneplus7 oneplus7pro oneplus7t</td>\n",
       "      <td>2022-07-01 09:15:57+00:00</td>\n",
       "      <td>b oneplus 7 7t pae l update oxygenos 12 beta con android 12 android12 oneplus7 oneplus7pro oneplus7t</td>\n",
       "      <td>0.00</td>\n",
       "      <td></td>\n",
       "      <td>{con, oxygenos, oneplus7t, b, l, pae, beta, android12}</td>\n",
       "    </tr>\n",
       "    <tr>\n",
       "      <th>20</th>\n",
       "      <td>b oxygenos 12 open beta 1 finally released for the oneplus 7 7 pro 7t 7t pro news oxygenos12 oneplus7 oneplus7t</td>\n",
       "      <td>2022-07-01 04:40:26+00:00</td>\n",
       "      <td>b oxygenos 12 open beta 1 finally released for the oneplus 7 7 pro 7t 7t pro news oxygenos12 oneplus7 oneplus7t</td>\n",
       "      <td>0.00</td>\n",
       "      <td></td>\n",
       "      <td>{oneplus7, oxygenos12, oneplus7t, b, news, beta}</td>\n",
       "    </tr>\n",
       "  </tbody>\n",
       "</table>\n",
       "</div>"
      ],
      "text/plain": [
       "                                                                                                              tweets  \\\n",
       "0                    b sky after rain sunset clouds shotononeplus oneplus oneplus7pro nfta nftfam nftgiveaway photo    \n",
       "1                    b sky after rain sunset clouds shotononeplus oneplus oneplus7pro nfta nftfam nftgiveaway photo    \n",
       "2     b 2019 s oneplus 7 oneplus 7t oneplus 7 pro oneplus 7t pro series will soon receive oxygenos 12 stable update    \n",
       "3                                                                    notingphone1 coming soon i am oneplus7pro user    \n",
       "4              i was using oneplus7pro and after having system update it got slow and it took more time to charge s    \n",
       "5                                                                              oneplus7pro now it is coz of updates    \n",
       "6    b oneplus 7 pro 7t and 7t pro can try paranoid android sapphire beta 2 news oneplus7pro oneplus7t oneplus7tpro    \n",
       "7                                                   b wallpapers dotted everywhere in wales oneplus9pro oneplus7pro    \n",
       "8                                                   b wallpapers dotted everywhere in wales oneplus9pro oneplus7pro    \n",
       "9                                                     wallpapers dotted everywhere in wales oneplus9pro oneplus7pro    \n",
       "10                  b oneplus 8 pro will have 120hz display \\ breakingnews oneplus oneplus8 oneplus7pro oneplus7t of   \n",
       "11                    b oppo reno 10x zoom review price features \\ oppo opporeno oppof11pro opporeno10xzoom android    \n",
       "12        b oneplus 7 amp oneplus 7 pro oxygenos 12 with android 12 open beta 1 released on 1st july 2022 read more    \n",
       "13           b paranoid android sapphire beta 2 is now available for the oneplus 7 pro download it on our website \\    \n",
       "14           b paranoid android sapphire beta 2 is now available for the oneplus 7 pro download it on our website \\    \n",
       "15             b paranoid android sapphire beta 2 is now available for the oneplus 7 pro download it on our website    \n",
       "16             b oneplus launched the nord 2t mid range phone in india oneplus oneplus5 oneplus6 oneplus6t oneplus7    \n",
       "17          b oneplus releases android 12 beta for its oneplus 7 oneplus 7 pro oneplus 7t and oneplus 7t pro models    \n",
       "18                                b oneplus 7 series picks up oxygenos 12 open beta 1 update \\ oneplus7 oneplus7pro    \n",
       "19             b oneplus 7 7t pae l update oxygenos 12 beta con android 12 android12 oneplus7 oneplus7pro oneplus7t    \n",
       "20  b oxygenos 12 open beta 1 finally released for the oneplus 7 7 pro 7t 7t pro news oxygenos12 oneplus7 oneplus7t    \n",
       "\n",
       "                  created_on  \\\n",
       "0  2022-07-09 21:41:48+00:00   \n",
       "1  2022-07-09 13:54:35+00:00   \n",
       "2  2022-07-09 10:00:14+00:00   \n",
       "3  2022-07-08 21:31:57+00:00   \n",
       "4  2022-07-08 19:17:31+00:00   \n",
       "5  2022-07-07 16:59:28+00:00   \n",
       "6  2022-07-05 13:05:56+00:00   \n",
       "7  2022-07-03 17:05:56+00:00   \n",
       "8  2022-07-03 15:34:31+00:00   \n",
       "9  2022-07-03 14:53:43+00:00   \n",
       "10 2022-07-03 13:57:00+00:00   \n",
       "11 2022-07-03 13:56:07+00:00   \n",
       "12 2022-07-01 15:59:39+00:00   \n",
       "13 2022-07-01 14:40:29+00:00   \n",
       "14 2022-07-01 14:29:38+00:00   \n",
       "15 2022-07-01 14:28:02+00:00   \n",
       "16 2022-07-01 12:50:39+00:00   \n",
       "17 2022-07-01 09:37:22+00:00   \n",
       "18 2022-07-01 09:29:09+00:00   \n",
       "19 2022-07-01 09:15:57+00:00   \n",
       "20 2022-07-01 04:40:26+00:00   \n",
       "\n",
       "                                                                                                            Opinion  \\\n",
       "0                    b sky after rain sunset clouds shotononeplus oneplus oneplus7pro nfta nftfam nftgiveaway photo   \n",
       "1                    b sky after rain sunset clouds shotononeplus oneplus oneplus7pro nfta nftfam nftgiveaway photo   \n",
       "2     b 2019 s oneplus 7 oneplus 7t oneplus 7 pro oneplus 7t pro series will soon receive oxygenos 12 stable update   \n",
       "3                                                                    notingphone1 coming soon i am oneplus7pro user   \n",
       "4              i was using oneplus7pro and after having system update it got slow and it took more time to charge s   \n",
       "5                                                                              oneplus7pro now it is coz of updates   \n",
       "6    b oneplus 7 pro 7t and 7t pro can try paranoid android sapphire beta 2 news oneplus7pro oneplus7t oneplus7tpro   \n",
       "7                                                   b wallpapers dotted everywhere in wales oneplus9pro oneplus7pro   \n",
       "8                                                   b wallpapers dotted everywhere in wales oneplus9pro oneplus7pro   \n",
       "9                                                     wallpapers dotted everywhere in wales oneplus9pro oneplus7pro   \n",
       "10                 b oneplus 8 pro will have 120hz display \\ breakingnews oneplus oneplus8 oneplus7pro oneplus7t of   \n",
       "11                    b oppo reno 10x zoom review price features \\ oppo opporeno oppof11pro opporeno10xzoom android   \n",
       "12        b oneplus 7 amp oneplus 7 pro oxygenos 12 with android 12 open beta 1 released on 1st july 2022 read more   \n",
       "13           b paranoid android sapphire beta 2 is now available for the oneplus 7 pro download it on our website \\   \n",
       "14           b paranoid android sapphire beta 2 is now available for the oneplus 7 pro download it on our website \\   \n",
       "15             b paranoid android sapphire beta 2 is now available for the oneplus 7 pro download it on our website   \n",
       "16             b oneplus launched the nord 2t mid range phone in india oneplus oneplus5 oneplus6 oneplus6t oneplus7   \n",
       "17          b oneplus releases android 12 beta for its oneplus 7 oneplus 7 pro oneplus 7t and oneplus 7t pro models   \n",
       "18                                b oneplus 7 series picks up oxygenos 12 open beta 1 update \\ oneplus7 oneplus7pro   \n",
       "19             b oneplus 7 7t pae l update oxygenos 12 beta con android 12 android12 oneplus7 oneplus7pro oneplus7t   \n",
       "20  b oxygenos 12 open beta 1 finally released for the oneplus 7 7 pro 7t 7t pro news oxygenos12 oneplus7 oneplus7t   \n",
       "\n",
       "    Polarity    Descriptors  \\\n",
       "0       0.00                  \n",
       "1       0.00                  \n",
       "2       0.00                  \n",
       "3       0.00                  \n",
       "4       0.10           slow   \n",
       "5       0.00                  \n",
       "6       0.00                  \n",
       "7       0.00                  \n",
       "8       0.00                  \n",
       "9       0.00                  \n",
       "10      0.00                  \n",
       "11      0.00                  \n",
       "12      0.25                  \n",
       "13      0.40  for available   \n",
       "14      0.40  for available   \n",
       "15      0.40  for available   \n",
       "16      0.00                  \n",
       "17      0.00                  \n",
       "18      0.00                  \n",
       "19      0.00                  \n",
       "20      0.00                  \n",
       "\n",
       "                                                                Descriptors1  \n",
       "0                                      {clouds, sunset, photo, b, sky, rain}  \n",
       "1                                      {clouds, sunset, photo, b, sky, rain}  \n",
       "2                                           {update, oxygenos, b, series, s}  \n",
       "3                                                                     {user}  \n",
       "4                                                       {system, time, s, i}  \n",
       "5                                                             {coz, updates}  \n",
       "6                                             {pro, b, sapphire, news, beta}  \n",
       "7                                                     {b, wallpapers, wales}  \n",
       "8                                                     {b, wallpapers, wales}  \n",
       "9                                                        {wallpapers, wales}  \n",
       "10                                           {pro, oneplus7t, b, \\, display}  \n",
       "11  {oppo, opporeno10xzoom, reno, b, android, price, zoom, review, features}  \n",
       "12                                                     {b, july, beta, read}  \n",
       "13              {website, b, sapphire, paranoid, android, \\, beta, download}  \n",
       "14              {website, b, sapphire, paranoid, android, \\, beta, download}  \n",
       "15                 {website, b, sapphire, paranoid, android, beta, download}  \n",
       "16     {oneplus7, range, oneplus5, b, phone, nord, oneplus6, oneplus6t, mid}  \n",
       "17                                                {oneplus, b, models, beta}  \n",
       "18                                                      {b, series, beta, \\}  \n",
       "19                    {con, oxygenos, oneplus7t, b, l, pae, beta, android12}  \n",
       "20                          {oneplus7, oxygenos12, oneplus7t, b, news, beta}  "
      ]
     },
     "execution_count": 459,
     "metadata": {},
     "output_type": "execute_result"
    }
   ],
   "source": [
    "twitter_content2"
   ]
  },
  {
   "cell_type": "markdown",
   "id": "96cbcb1e",
   "metadata": {},
   "source": [
    "# POLARITY ANALYSIS"
   ]
  },
  {
   "cell_type": "code",
   "execution_count": 460,
   "id": "92238b07",
   "metadata": {},
   "outputs": [
    {
     "data": {
      "image/png": "[encoded data removed]",
      "text/plain": [
       "<Figure size 432x288 with 1 Axes>"
      ]
     },
     "metadata": {
      "needs_background": "light"
     },
     "output_type": "display_data"
    }
   ],
   "source": [
    "ax = sns.histplot(twitter_content2[\"Polarity\"],\n",
    "                  bins=np.arange(-1,1,0.2)\n",
    "                  ).set_title('Histogram of Polarities (Aspect = \"Color\")')\n",
    "plt.show()"
   ]
  },
  {
   "cell_type": "code",
   "execution_count": 461,
   "id": "07637368",
   "metadata": {},
   "outputs": [],
   "source": [
    "# save the chart figure\n",
    "fig = ax.get_figure()\n",
    "fig.savefig('Polarity_Distribution.png', \n",
    "            dpi=75, \n",
    "            bbox_inches=\"tight\")"
   ]
  },
  {
   "cell_type": "markdown",
   "id": "2825b467",
   "metadata": {},
   "source": [
    "# Descriptor Analysis (n-gramming)"
   ]
  },
  {
   "cell_type": "code",
   "execution_count": 462,
   "id": "b422f4f7",
   "metadata": {},
   "outputs": [],
   "source": [
    "positives = twitter_content2[twitter_content2[\"Polarity\"] > 0] # polarity greater than 0\n",
    "negatives = twitter_content2[twitter_content2[\"Polarity\"] == 0] # polarity less than 0"
   ]
  },
  {
   "cell_type": "code",
   "execution_count": 463,
   "id": "2899720e",
   "metadata": {},
   "outputs": [],
   "source": [
    "from collections import Counter"
   ]
  },
  {
   "cell_type": "code",
   "execution_count": 464,
   "id": "5c1b25d3",
   "metadata": {},
   "outputs": [],
   "source": [
    "def ngrams(text, n):\n",
    "     return zip(*[text[i:] for i in range(n)])\n",
    "     \n",
    "def display_ngram_frequency(corpus, n, display):\n",
    "    \"\"\"\n",
    "    Generate a DataFrame of n-grams and their frequencies.\n",
    "    \"\"\"\n",
    "    ngram_counts = Counter(ngrams(corpus.split(), n))\n",
    "    most_commmon = ngram_counts.most_common(display)\n",
    "\n",
    "    ngram = []\n",
    "    count = []\n",
    "    for i in range(0,len(most_commmon)):\n",
    "        ngram.append(\" \".join(most_commmon[i][0]))\n",
    "        count.append(most_commmon[i][1])\n",
    "\n",
    "    if n > 3:\n",
    "        col = f\"{n}-gram\"\n",
    "    if n == 3:\n",
    "        col = 'Tri-gram'\n",
    "    if n == 2:\n",
    "        col = 'Bi-gram'\n",
    "\n",
    "    return pd.DataFrame(zip(ngram, count), columns=[col, \"Count\"])"
   ]
  },
  {
   "cell_type": "code",
   "execution_count": 465,
   "id": "39113b5e",
   "metadata": {},
   "outputs": [],
   "source": [
    "# list all negative descriptors in a single string\n",
    "descriptors_negative_opinions = negatives[\"Descriptors\"].tolist()\n",
    "descriptors_negative_opinions = \" \".join(descriptors_negative_opinions)\n",
    "\n",
    "# positives\n",
    "descriptors_positive_opinions = positives[\"Descriptors\"].tolist()\n",
    "descriptors_positive_opinions = \" \".join(descriptors_positive_opinions)"
   ]
  },
  {
   "cell_type": "code",
   "execution_count": 466,
   "id": "2caa1fc8",
   "metadata": {},
   "outputs": [
    {
     "data": {
      "text/plain": [
       "4              slow\n",
       "12                 \n",
       "13    for available\n",
       "14    for available\n",
       "15    for available\n",
       "Name: Descriptors, dtype: object"
      ]
     },
     "execution_count": 466,
     "metadata": {},
     "output_type": "execute_result"
    }
   ],
   "source": [
    "positives[\"Descriptors\"]"
   ]
  },
  {
   "cell_type": "code",
   "execution_count": 467,
   "id": "d093b8f1",
   "metadata": {},
   "outputs": [
    {
     "data": {
      "text/html": [
       "<div>\n",
       "<style scoped>\n",
       "    .dataframe tbody tr th:only-of-type {\n",
       "        vertical-align: middle;\n",
       "    }\n",
       "\n",
       "    .dataframe tbody tr th {\n",
       "        vertical-align: top;\n",
       "    }\n",
       "\n",
       "    .dataframe thead th {\n",
       "        text-align: right;\n",
       "    }\n",
       "</style>\n",
       "<table border=\"1\" class=\"dataframe\">\n",
       "  <thead>\n",
       "    <tr style=\"text-align: right;\">\n",
       "      <th></th>\n",
       "      <th>Tri-gram</th>\n",
       "      <th>Count</th>\n",
       "    </tr>\n",
       "  </thead>\n",
       "  <tbody>\n",
       "    <tr>\n",
       "      <th>0</th>\n",
       "      <td>for available for</td>\n",
       "      <td>2</td>\n",
       "    </tr>\n",
       "    <tr>\n",
       "      <th>1</th>\n",
       "      <td>available for available</td>\n",
       "      <td>2</td>\n",
       "    </tr>\n",
       "    <tr>\n",
       "      <th>2</th>\n",
       "      <td>slow for available</td>\n",
       "      <td>1</td>\n",
       "    </tr>\n",
       "  </tbody>\n",
       "</table>\n",
       "</div>"
      ],
      "text/plain": [
       "                  Tri-gram  Count\n",
       "0        for available for      2\n",
       "1  available for available      2\n",
       "2       slow for available      1"
      ]
     },
     "execution_count": 467,
     "metadata": {},
     "output_type": "execute_result"
    }
   ],
   "source": [
    "display_ngram_frequency(descriptors_positive_opinions, n=3\n",
    "                        , display=4)"
   ]
  },
  {
   "cell_type": "code",
   "execution_count": 468,
   "id": "265f5a44",
   "metadata": {},
   "outputs": [
    {
     "name": "stdout",
     "output_type": "stream",
     "text": [
      "Requirement already satisfied: wordcloud in /Users/ankushsingal/opt/anaconda3/lib/python3.8/site-packages (1.8.2.2)\n",
      "Requirement already satisfied: matplotlib in /Users/ankushsingal/opt/anaconda3/lib/python3.8/site-packages (from wordcloud) (3.3.4)\n",
      "Requirement already satisfied: pillow in /Users/ankushsingal/opt/anaconda3/lib/python3.8/site-packages (from wordcloud) (8.4.0)\n",
      "Requirement already satisfied: numpy>=1.6.1 in /Users/ankushsingal/opt/anaconda3/lib/python3.8/site-packages (from wordcloud) (1.19.5)\n",
      "Requirement already satisfied: python-dateutil>=2.1 in /Users/ankushsingal/opt/anaconda3/lib/python3.8/site-packages (from matplotlib->wordcloud) (2.8.2)\n",
      "Requirement already satisfied: cycler>=0.10 in /Users/ankushsingal/opt/anaconda3/lib/python3.8/site-packages (from matplotlib->wordcloud) (0.11.0)\n",
      "Requirement already satisfied: pyparsing!=2.0.4,!=2.1.2,!=2.1.6,>=2.0.3 in /Users/ankushsingal/opt/anaconda3/lib/python3.8/site-packages (from matplotlib->wordcloud) (2.4.7)\n",
      "Requirement already satisfied: kiwisolver>=1.0.1 in /Users/ankushsingal/opt/anaconda3/lib/python3.8/site-packages (from matplotlib->wordcloud) (1.3.1)\n",
      "Requirement already satisfied: six>=1.5 in /Users/ankushsingal/opt/anaconda3/lib/python3.8/site-packages (from python-dateutil>=2.1->matplotlib->wordcloud) (1.16.0)\n",
      "\u001b[33mWARNING: You are using pip version 21.2.4; however, version 22.1.2 is available.\n",
      "You should consider upgrading via the '/Users/ankushsingal/opt/anaconda3/bin/python -m pip install --upgrade pip' command.\u001b[0m\n"
     ]
    }
   ],
   "source": [
    "!pip install wordcloud"
   ]
  },
  {
   "cell_type": "code",
   "execution_count": 469,
   "id": "5dd4f325",
   "metadata": {},
   "outputs": [],
   "source": [
    "from wordcloud import WordCloud\n",
    "\n",
    "def generate_wordcloud(text):\n",
    "    \"\"\"\n",
    "    Generate word cloud images.\n",
    "    \"\"\"\n",
    "    wordcloud = WordCloud(collocations=False, \n",
    "                          background_color=\"black\",\n",
    "                          max_words=50).generate(text)\n",
    "    \n",
    "    # set the figure size\n",
    "    plt.figure(figsize=[8,10])\n",
    "\n",
    "    # plot the wordcloud\n",
    "    plt.imshow(wordcloud, interpolation=\"bilinear\")\n",
    "\n",
    "    # remove plot axes\n",
    "    plt.axis(\"off\")"
   ]
  },
  {
   "cell_type": "code",
   "execution_count": 470,
   "id": "5814b9d5",
   "metadata": {},
   "outputs": [
    {
     "data": {
      "image/png": "[encoded data removed]",
      "text/plain": [
       "<Figure size 576x720 with 1 Axes>"
      ]
     },
     "metadata": {
      "needs_background": "light"
     },
     "output_type": "display_data"
    }
   ],
   "source": [
    "# WordCloud: descriptors extracted from negative opinions\n",
    "generate_wordcloud(descriptors_positive_opinions)"
   ]
  },
  {
   "cell_type": "code",
   "execution_count": null,
   "id": "ad6c8faf",
   "metadata": {},
   "outputs": [],
   "source": []
  }
 ],
 "metadata": {
  "kernelspec": {
   "display_name": "Python 3 (ipykernel)",
   "language": "python",
   "name": "python3"
  },
  "language_info": {
   "codemirror_mode": {
    "name": "ipython",
    "version": 3
   },
   "file_extension": ".py",
   "mimetype": "text/x-python",
   "name": "python",
   "nbconvert_exporter": "python",
   "pygments_lexer": "ipython3",
   "version": "3.9.12"
  }
 },
 "nbformat": 4,
 "nbformat_minor": 5
}
